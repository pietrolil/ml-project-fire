{
  "cells": [
    {
      "cell_type": "markdown",
      "metadata": {
        "id": "tPPGooPA7qby"
      },
      "source": [
        "# Preparação de Dados\n",
        "\n",
        "\n"
      ]
    },
    {
      "cell_type": "code",
      "execution_count": null,
      "metadata": {
        "id": "4bnbPTlpvsEQ",
        "colab": {
          "base_uri": "https://localhost:8080/"
        },
        "outputId": "b3b3969d-24e1-4a05-d778-5e9074d0eb2b"
      },
      "outputs": [
        {
          "output_type": "stream",
          "name": "stdout",
          "text": [
            "Mounted at /content/drive\n"
          ]
        }
      ],
      "source": [
        "import pandas as pd\n",
        "import numpy as np\n",
        "from sklearn.preprocessing import StandardScaler, OneHotEncoder, LabelEncoder\n",
        "from sklearn.impute import SimpleImputer\n",
        "from sklearn.model_selection import train_test_split\n",
        "from imblearn.over_sampling import RandomOverSampler\n",
        "from imblearn.under_sampling import RandomUnderSampler\n",
        "from sklearn.ensemble import RandomForestRegressor\n",
        "from sklearn.feature_selection import RFE, SelectKBest, chi2, f_classif\n",
        "from sklearn.linear_model import LogisticRegression\n",
        "\n",
        "from google.colab import drive\n",
        "drive.mount('/content/drive')\n",
        "\n",
        "PATH_DRIVE_BIG_DATA = \"/content/drive/MyDrive/MachineLearning/\"\n",
        "\n",
        "df = pd.read_csv(PATH_DRIVE_BIG_DATA + 'Focos_2020-01-01_2020-12-31.csv')\n",
        "\n",
        "df.drop(['pais', 'satelite', 'latitude', 'longitude', 'municipio'], axis=1, inplace=True)\n",
        "\n",
        "medianDiaSemChuva = df['diasemchuva'].median()\n",
        "df['diasemchuva'].fillna(medianDiaSemChuva, inplace=True)\n",
        "df['diasemchuva'] = df['diasemchuva'].apply(lambda item: 0.0 if item < 0 else item)\n",
        "\n",
        "medianPrecipitacao = df['precipitacao'].median()\n",
        "df['precipitacao'].fillna(medianPrecipitacao, inplace=True)\n",
        "df['precipitacao'] = df['precipitacao'].apply(lambda item: 200.0 if item > 200 else item)\n",
        "\n",
        "medianFRP = df['frp'].median()\n",
        "df['frp'].fillna(medianFRP, inplace=True)\n",
        "df['frp'] = df['frp'].apply(lambda item: 8000.0 if item > 8000 else item)\n",
        "\n",
        "medianRiscoFogo = df['riscofogo'].median()\n",
        "medianRiscoFogoByBioma = df.groupby('bioma')['riscofogo'].median()\n",
        "\n",
        "for i in df.index:\n",
        "  if pd.isnull(df.at[i, 'riscofogo']):\n",
        "    df.at[i, 'riscofogo'] = medianRiscoFogo if pd.isnull(df.at[i, 'bioma']) else medianRiscoFogoByBioma[df.at[i, 'bioma']]\n",
        "\n",
        "df['riscofogo'] = df['riscofogo'].apply(lambda item: 0.0 if item < 0 else item)\n",
        "\n",
        "\n",
        "max_diasemchuva = df['diasemchuva'].max()\n",
        "max_precipitacao = df['precipitacao'].max()\n",
        "max_frp = df['frp'].max()\n",
        "\n",
        "min_diasemchuva = df['diasemchuva'].min()\n",
        "min_precipitacao = df['precipitacao'].min()\n",
        "min_frp = df['frp'].min()\n",
        "\n",
        "df['diasemchuva'] = df['diasemchuva'].apply(lambda item: (item - min_diasemchuva) / (max_diasemchuva - min_diasemchuva))\n",
        "df['precipitacao'] = df['precipitacao'].apply(lambda item: (item - min_precipitacao) / (max_precipitacao - min_precipitacao))\n",
        "df['frp'] = df['frp'].apply(lambda item: (item - min_frp) / (max_frp - min_frp))\n",
        "\n",
        "df['mes'] = pd.to_datetime(df['datahora']).dt.month\n",
        "\n",
        "df.drop(['datahora'], axis=1, inplace=True)\n",
        "\n",
        "# Transformar o atributo qualitativo 'bioma' em dummies\n",
        "df = pd.get_dummies(df, columns=['estado', 'bioma'], prefix=['E', 'B'])\n"
      ]
    },
    {
      "cell_type": "code",
      "execution_count": null,
      "metadata": {
        "colab": {
          "base_uri": "https://localhost:8080/"
        },
        "id": "f9u-UpBsxWj1",
        "outputId": "1315b5c3-b79e-4fc8-f0b3-6373600787a8"
      },
      "outputs": [
        {
          "output_type": "stream",
          "name": "stdout",
          "text": [
            "Base 10 rfe: Index(['diasemchuva', 'precipitacao', 'E_AMAPA', 'E_MATO GROSSO DO SUL',\n",
            "       'E_MINAS GERAIS', 'E_PARANA', 'E_RORAIMA', 'E_SANTA CATARINA',\n",
            "       'B_Amazonia', 'B_Cerrado'],\n",
            "      dtype='object')\n",
            "Base 5 rfe: Index(['diasemchuva', 'precipitacao', 'E_MATO GROSSO DO SUL',\n",
            "       'E_SANTA CATARINA', 'B_Amazonia'],\n",
            "      dtype='object')\n",
            "Base 12 skb: ['diasemchuva' 'precipitacao' 'E_ACRE' 'E_AMAZONAS' 'E_MINAS GERAIS'\n",
            " 'E_PIAUI' 'E_RIO GRANDE DO SUL' 'E_SANTA CATARINA' 'B_Amazonia'\n",
            " 'B_Caatinga' 'B_Cerrado' 'B_Pantanal']\n",
            "Base 6 skb: ['diasemchuva' 'E_ACRE' 'E_AMAZONAS' 'B_Amazonia' 'B_Caatinga' 'B_Cerrado']\n"
          ]
        }
      ],
      "source": [
        "# separar atributos e classe\n",
        "dfCleanRange = df.drop(['riscofogo'], axis=1)\n",
        "target = df['riscofogo']\n",
        "\n",
        "X_train, X_test, y_train, y_test = train_test_split(dfCleanRange, target, test_size=0.3, random_state=88, stratify=target)\n",
        "\n",
        "y_train_categories = y_train.apply(lambda item: 0 if item < 0.5 else 1)\n",
        "y_test_categories = y_test.apply(lambda item: 0 if item < 0.5 else 1)\n",
        "\n",
        "WIDTH = 400\n",
        "\n",
        "def generateColumnsRFE(X_train, y_train, step, n):\n",
        "  model = LogisticRegression()\n",
        "  selected = RFE(model, step=step, n_features_to_select=n).fit(X_train, y_train)\n",
        "\n",
        "  return X_train.columns[selected.get_support(indices=True)]\n",
        "\n",
        "columnsRFE10 = generateColumnsRFE(X_train.head(WIDTH), y_train_categories.head(WIDTH), 1, 10)\n",
        "\n",
        "X_train_RFE10, X_test_RFE10 = X_train[columnsRFE10], X_test[columnsRFE10]\n",
        "\n",
        "columnsRFE5 = generateColumnsRFE(X_train.head(WIDTH), y_train_categories.head(WIDTH), 1, 5)\n",
        "\n",
        "X_train_RFE5, X_test_RFE5 = X_train[columnsRFE5], X_test[columnsRFE5]\n",
        "\n",
        "\n",
        "def generateColumnsSb(X_train, y_train, k):\n",
        "  return SelectKBest(chi2, k=k).fit(X_train, y_train).get_feature_names_out()\n",
        "\n",
        "columnsSB12 = generateColumnsSb(X_train, y_train_categories, 12)\n",
        "\n",
        "X_trainsSB12, X_testSB12 = X_train[columnsSB12], X_test[columnsSB12]\n",
        "\n",
        "columnsSB6 = generateColumnsSb(X_train, y_train_categories, 6)\n",
        "\n",
        "X_trainsSB6, X_testSB6 = X_train[columnsSB6], X_test[columnsSB6]\n",
        "\n",
        "print(f'Base 10 rfe: {columnsRFE10}')\n",
        "print(f'Base 5 rfe: {columnsRFE5}')\n",
        "print(f'Base 12 skb: {columnsSB12}')\n",
        "print(f'Base 6 skb: {columnsSB6}')"
      ]
    },
    {
      "cell_type": "code",
      "execution_count": null,
      "metadata": {
        "colab": {
          "base_uri": "https://localhost:8080/",
          "height": 505
        },
        "id": "PQ61ko_K5CVU",
        "outputId": "4c787f7f-585b-430d-d14c-b36c0031a014"
      },
      "outputs": [
        {
          "output_type": "execute_result",
          "data": {
            "text/plain": [
              "       diasemchuva  precipitacao       frp  mes  E_ACRE  E_ALAGOAS  E_AMAPA  \\\n",
              "0         0.016667      0.000000  0.000937    9       0          0        0   \n",
              "1         0.000000      0.000797  0.021075    9       0          0        0   \n",
              "2         0.016667      0.055777  0.002175   11       0          0        0   \n",
              "3         0.058333      0.000000  0.001937    6       0          0        0   \n",
              "4         0.025000      0.000797  0.001875   12       0          0        0   \n",
              "...            ...           ...       ...  ...     ...        ...      ...   \n",
              "78459     0.708333      0.000000  0.002100    8       0          0        0   \n",
              "78460     0.008333      0.004781  0.006488   10       0          0        0   \n",
              "78461     0.025000      0.000000  0.001025   11       0          0        0   \n",
              "78462     0.816667      0.000000  0.011850    9       0          0        0   \n",
              "78463     0.158333      0.000000  0.006425    7       0          0        0   \n",
              "\n",
              "       E_AMAZONAS  E_BAHIA  E_CEARA  ...  E_SAO PAULO  E_SERGIPE  E_TOCANTINS  \\\n",
              "0               1        0        0  ...            0          0            0   \n",
              "1               1        0        0  ...            0          0            0   \n",
              "2               0        0        0  ...            0          0            0   \n",
              "3               0        0        0  ...            0          0            0   \n",
              "4               0        0        0  ...            0          0            0   \n",
              "...           ...      ...      ...  ...          ...        ...          ...   \n",
              "78459           0        0        0  ...            0          0            0   \n",
              "78460           0        0        0  ...            0          0            0   \n",
              "78461           0        0        1  ...            0          0            0   \n",
              "78462           0        0        0  ...            0          0            0   \n",
              "78463           0        0        1  ...            0          0            0   \n",
              "\n",
              "       B_Amazonia  B_Caatinga  B_Cerrado  B_Mata Atlantica  B_Pampa  \\\n",
              "0               1           0          0                 0        0   \n",
              "1               1           0          0                 0        0   \n",
              "2               1           0          0                 0        0   \n",
              "3               1           0          0                 0        0   \n",
              "4               1           0          0                 0        0   \n",
              "...           ...         ...        ...               ...      ...   \n",
              "78459           0           0          1                 0        0   \n",
              "78460           1           0          0                 0        0   \n",
              "78461           0           1          0                 0        0   \n",
              "78462           0           0          1                 0        0   \n",
              "78463           0           1          0                 0        0   \n",
              "\n",
              "       B_Pantanal  riscofogo  \n",
              "0               0        1.0  \n",
              "1               0        0.9  \n",
              "2               0        0.8  \n",
              "3               0        1.0  \n",
              "4               0        0.2  \n",
              "...           ...        ...  \n",
              "78459           0        1.0  \n",
              "78460           0        0.9  \n",
              "78461           0        0.8  \n",
              "78462           0        0.7  \n",
              "78463           0        0.3  \n",
              "\n",
              "[78464 rows x 38 columns]"
            ],
            "text/html": [
              "\n",
              "  <div id=\"df-10950f37-472f-482e-86c2-7a6e2e540578\">\n",
              "    <div class=\"colab-df-container\">\n",
              "      <div>\n",
              "<style scoped>\n",
              "    .dataframe tbody tr th:only-of-type {\n",
              "        vertical-align: middle;\n",
              "    }\n",
              "\n",
              "    .dataframe tbody tr th {\n",
              "        vertical-align: top;\n",
              "    }\n",
              "\n",
              "    .dataframe thead th {\n",
              "        text-align: right;\n",
              "    }\n",
              "</style>\n",
              "<table border=\"1\" class=\"dataframe\">\n",
              "  <thead>\n",
              "    <tr style=\"text-align: right;\">\n",
              "      <th></th>\n",
              "      <th>diasemchuva</th>\n",
              "      <th>precipitacao</th>\n",
              "      <th>frp</th>\n",
              "      <th>mes</th>\n",
              "      <th>E_ACRE</th>\n",
              "      <th>E_ALAGOAS</th>\n",
              "      <th>E_AMAPA</th>\n",
              "      <th>E_AMAZONAS</th>\n",
              "      <th>E_BAHIA</th>\n",
              "      <th>E_CEARA</th>\n",
              "      <th>...</th>\n",
              "      <th>E_SAO PAULO</th>\n",
              "      <th>E_SERGIPE</th>\n",
              "      <th>E_TOCANTINS</th>\n",
              "      <th>B_Amazonia</th>\n",
              "      <th>B_Caatinga</th>\n",
              "      <th>B_Cerrado</th>\n",
              "      <th>B_Mata Atlantica</th>\n",
              "      <th>B_Pampa</th>\n",
              "      <th>B_Pantanal</th>\n",
              "      <th>riscofogo</th>\n",
              "    </tr>\n",
              "  </thead>\n",
              "  <tbody>\n",
              "    <tr>\n",
              "      <th>0</th>\n",
              "      <td>0.016667</td>\n",
              "      <td>0.000000</td>\n",
              "      <td>0.000937</td>\n",
              "      <td>9</td>\n",
              "      <td>0</td>\n",
              "      <td>0</td>\n",
              "      <td>0</td>\n",
              "      <td>1</td>\n",
              "      <td>0</td>\n",
              "      <td>0</td>\n",
              "      <td>...</td>\n",
              "      <td>0</td>\n",
              "      <td>0</td>\n",
              "      <td>0</td>\n",
              "      <td>1</td>\n",
              "      <td>0</td>\n",
              "      <td>0</td>\n",
              "      <td>0</td>\n",
              "      <td>0</td>\n",
              "      <td>0</td>\n",
              "      <td>1.0</td>\n",
              "    </tr>\n",
              "    <tr>\n",
              "      <th>1</th>\n",
              "      <td>0.000000</td>\n",
              "      <td>0.000797</td>\n",
              "      <td>0.021075</td>\n",
              "      <td>9</td>\n",
              "      <td>0</td>\n",
              "      <td>0</td>\n",
              "      <td>0</td>\n",
              "      <td>1</td>\n",
              "      <td>0</td>\n",
              "      <td>0</td>\n",
              "      <td>...</td>\n",
              "      <td>0</td>\n",
              "      <td>0</td>\n",
              "      <td>0</td>\n",
              "      <td>1</td>\n",
              "      <td>0</td>\n",
              "      <td>0</td>\n",
              "      <td>0</td>\n",
              "      <td>0</td>\n",
              "      <td>0</td>\n",
              "      <td>0.9</td>\n",
              "    </tr>\n",
              "    <tr>\n",
              "      <th>2</th>\n",
              "      <td>0.016667</td>\n",
              "      <td>0.055777</td>\n",
              "      <td>0.002175</td>\n",
              "      <td>11</td>\n",
              "      <td>0</td>\n",
              "      <td>0</td>\n",
              "      <td>0</td>\n",
              "      <td>0</td>\n",
              "      <td>0</td>\n",
              "      <td>0</td>\n",
              "      <td>...</td>\n",
              "      <td>0</td>\n",
              "      <td>0</td>\n",
              "      <td>0</td>\n",
              "      <td>1</td>\n",
              "      <td>0</td>\n",
              "      <td>0</td>\n",
              "      <td>0</td>\n",
              "      <td>0</td>\n",
              "      <td>0</td>\n",
              "      <td>0.8</td>\n",
              "    </tr>\n",
              "    <tr>\n",
              "      <th>3</th>\n",
              "      <td>0.058333</td>\n",
              "      <td>0.000000</td>\n",
              "      <td>0.001937</td>\n",
              "      <td>6</td>\n",
              "      <td>0</td>\n",
              "      <td>0</td>\n",
              "      <td>0</td>\n",
              "      <td>0</td>\n",
              "      <td>0</td>\n",
              "      <td>0</td>\n",
              "      <td>...</td>\n",
              "      <td>0</td>\n",
              "      <td>0</td>\n",
              "      <td>0</td>\n",
              "      <td>1</td>\n",
              "      <td>0</td>\n",
              "      <td>0</td>\n",
              "      <td>0</td>\n",
              "      <td>0</td>\n",
              "      <td>0</td>\n",
              "      <td>1.0</td>\n",
              "    </tr>\n",
              "    <tr>\n",
              "      <th>4</th>\n",
              "      <td>0.025000</td>\n",
              "      <td>0.000797</td>\n",
              "      <td>0.001875</td>\n",
              "      <td>12</td>\n",
              "      <td>0</td>\n",
              "      <td>0</td>\n",
              "      <td>0</td>\n",
              "      <td>0</td>\n",
              "      <td>0</td>\n",
              "      <td>0</td>\n",
              "      <td>...</td>\n",
              "      <td>0</td>\n",
              "      <td>0</td>\n",
              "      <td>0</td>\n",
              "      <td>1</td>\n",
              "      <td>0</td>\n",
              "      <td>0</td>\n",
              "      <td>0</td>\n",
              "      <td>0</td>\n",
              "      <td>0</td>\n",
              "      <td>0.2</td>\n",
              "    </tr>\n",
              "    <tr>\n",
              "      <th>...</th>\n",
              "      <td>...</td>\n",
              "      <td>...</td>\n",
              "      <td>...</td>\n",
              "      <td>...</td>\n",
              "      <td>...</td>\n",
              "      <td>...</td>\n",
              "      <td>...</td>\n",
              "      <td>...</td>\n",
              "      <td>...</td>\n",
              "      <td>...</td>\n",
              "      <td>...</td>\n",
              "      <td>...</td>\n",
              "      <td>...</td>\n",
              "      <td>...</td>\n",
              "      <td>...</td>\n",
              "      <td>...</td>\n",
              "      <td>...</td>\n",
              "      <td>...</td>\n",
              "      <td>...</td>\n",
              "      <td>...</td>\n",
              "      <td>...</td>\n",
              "    </tr>\n",
              "    <tr>\n",
              "      <th>78459</th>\n",
              "      <td>0.708333</td>\n",
              "      <td>0.000000</td>\n",
              "      <td>0.002100</td>\n",
              "      <td>8</td>\n",
              "      <td>0</td>\n",
              "      <td>0</td>\n",
              "      <td>0</td>\n",
              "      <td>0</td>\n",
              "      <td>0</td>\n",
              "      <td>0</td>\n",
              "      <td>...</td>\n",
              "      <td>0</td>\n",
              "      <td>0</td>\n",
              "      <td>0</td>\n",
              "      <td>0</td>\n",
              "      <td>0</td>\n",
              "      <td>1</td>\n",
              "      <td>0</td>\n",
              "      <td>0</td>\n",
              "      <td>0</td>\n",
              "      <td>1.0</td>\n",
              "    </tr>\n",
              "    <tr>\n",
              "      <th>78460</th>\n",
              "      <td>0.008333</td>\n",
              "      <td>0.004781</td>\n",
              "      <td>0.006488</td>\n",
              "      <td>10</td>\n",
              "      <td>0</td>\n",
              "      <td>0</td>\n",
              "      <td>0</td>\n",
              "      <td>0</td>\n",
              "      <td>0</td>\n",
              "      <td>0</td>\n",
              "      <td>...</td>\n",
              "      <td>0</td>\n",
              "      <td>0</td>\n",
              "      <td>0</td>\n",
              "      <td>1</td>\n",
              "      <td>0</td>\n",
              "      <td>0</td>\n",
              "      <td>0</td>\n",
              "      <td>0</td>\n",
              "      <td>0</td>\n",
              "      <td>0.9</td>\n",
              "    </tr>\n",
              "    <tr>\n",
              "      <th>78461</th>\n",
              "      <td>0.025000</td>\n",
              "      <td>0.000000</td>\n",
              "      <td>0.001025</td>\n",
              "      <td>11</td>\n",
              "      <td>0</td>\n",
              "      <td>0</td>\n",
              "      <td>0</td>\n",
              "      <td>0</td>\n",
              "      <td>0</td>\n",
              "      <td>1</td>\n",
              "      <td>...</td>\n",
              "      <td>0</td>\n",
              "      <td>0</td>\n",
              "      <td>0</td>\n",
              "      <td>0</td>\n",
              "      <td>1</td>\n",
              "      <td>0</td>\n",
              "      <td>0</td>\n",
              "      <td>0</td>\n",
              "      <td>0</td>\n",
              "      <td>0.8</td>\n",
              "    </tr>\n",
              "    <tr>\n",
              "      <th>78462</th>\n",
              "      <td>0.816667</td>\n",
              "      <td>0.000000</td>\n",
              "      <td>0.011850</td>\n",
              "      <td>9</td>\n",
              "      <td>0</td>\n",
              "      <td>0</td>\n",
              "      <td>0</td>\n",
              "      <td>0</td>\n",
              "      <td>0</td>\n",
              "      <td>0</td>\n",
              "      <td>...</td>\n",
              "      <td>0</td>\n",
              "      <td>0</td>\n",
              "      <td>0</td>\n",
              "      <td>0</td>\n",
              "      <td>0</td>\n",
              "      <td>1</td>\n",
              "      <td>0</td>\n",
              "      <td>0</td>\n",
              "      <td>0</td>\n",
              "      <td>0.7</td>\n",
              "    </tr>\n",
              "    <tr>\n",
              "      <th>78463</th>\n",
              "      <td>0.158333</td>\n",
              "      <td>0.000000</td>\n",
              "      <td>0.006425</td>\n",
              "      <td>7</td>\n",
              "      <td>0</td>\n",
              "      <td>0</td>\n",
              "      <td>0</td>\n",
              "      <td>0</td>\n",
              "      <td>0</td>\n",
              "      <td>1</td>\n",
              "      <td>...</td>\n",
              "      <td>0</td>\n",
              "      <td>0</td>\n",
              "      <td>0</td>\n",
              "      <td>0</td>\n",
              "      <td>1</td>\n",
              "      <td>0</td>\n",
              "      <td>0</td>\n",
              "      <td>0</td>\n",
              "      <td>0</td>\n",
              "      <td>0.3</td>\n",
              "    </tr>\n",
              "  </tbody>\n",
              "</table>\n",
              "<p>78464 rows × 38 columns</p>\n",
              "</div>\n",
              "      <button class=\"colab-df-convert\" onclick=\"convertToInteractive('df-10950f37-472f-482e-86c2-7a6e2e540578')\"\n",
              "              title=\"Convert this dataframe to an interactive table.\"\n",
              "              style=\"display:none;\">\n",
              "        \n",
              "  <svg xmlns=\"http://www.w3.org/2000/svg\" height=\"24px\"viewBox=\"0 0 24 24\"\n",
              "       width=\"24px\">\n",
              "    <path d=\"M0 0h24v24H0V0z\" fill=\"none\"/>\n",
              "    <path d=\"M18.56 5.44l.94 2.06.94-2.06 2.06-.94-2.06-.94-.94-2.06-.94 2.06-2.06.94zm-11 1L8.5 8.5l.94-2.06 2.06-.94-2.06-.94L8.5 2.5l-.94 2.06-2.06.94zm10 10l.94 2.06.94-2.06 2.06-.94-2.06-.94-.94-2.06-.94 2.06-2.06.94z\"/><path d=\"M17.41 7.96l-1.37-1.37c-.4-.4-.92-.59-1.43-.59-.52 0-1.04.2-1.43.59L10.3 9.45l-7.72 7.72c-.78.78-.78 2.05 0 2.83L4 21.41c.39.39.9.59 1.41.59.51 0 1.02-.2 1.41-.59l7.78-7.78 2.81-2.81c.8-.78.8-2.07 0-2.86zM5.41 20L4 18.59l7.72-7.72 1.47 1.35L5.41 20z\"/>\n",
              "  </svg>\n",
              "      </button>\n",
              "      \n",
              "  <style>\n",
              "    .colab-df-container {\n",
              "      display:flex;\n",
              "      flex-wrap:wrap;\n",
              "      gap: 12px;\n",
              "    }\n",
              "\n",
              "    .colab-df-convert {\n",
              "      background-color: #E8F0FE;\n",
              "      border: none;\n",
              "      border-radius: 50%;\n",
              "      cursor: pointer;\n",
              "      display: none;\n",
              "      fill: #1967D2;\n",
              "      height: 32px;\n",
              "      padding: 0 0 0 0;\n",
              "      width: 32px;\n",
              "    }\n",
              "\n",
              "    .colab-df-convert:hover {\n",
              "      background-color: #E2EBFA;\n",
              "      box-shadow: 0px 1px 2px rgba(60, 64, 67, 0.3), 0px 1px 3px 1px rgba(60, 64, 67, 0.15);\n",
              "      fill: #174EA6;\n",
              "    }\n",
              "\n",
              "    [theme=dark] .colab-df-convert {\n",
              "      background-color: #3B4455;\n",
              "      fill: #D2E3FC;\n",
              "    }\n",
              "\n",
              "    [theme=dark] .colab-df-convert:hover {\n",
              "      background-color: #434B5C;\n",
              "      box-shadow: 0px 1px 3px 1px rgba(0, 0, 0, 0.15);\n",
              "      filter: drop-shadow(0px 1px 2px rgba(0, 0, 0, 0.3));\n",
              "      fill: #FFFFFF;\n",
              "    }\n",
              "  </style>\n",
              "\n",
              "      <script>\n",
              "        const buttonEl =\n",
              "          document.querySelector('#df-10950f37-472f-482e-86c2-7a6e2e540578 button.colab-df-convert');\n",
              "        buttonEl.style.display =\n",
              "          google.colab.kernel.accessAllowed ? 'block' : 'none';\n",
              "\n",
              "        async function convertToInteractive(key) {\n",
              "          const element = document.querySelector('#df-10950f37-472f-482e-86c2-7a6e2e540578');\n",
              "          const dataTable =\n",
              "            await google.colab.kernel.invokeFunction('convertToInteractive',\n",
              "                                                     [key], {});\n",
              "          if (!dataTable) return;\n",
              "\n",
              "          const docLinkHtml = 'Like what you see? Visit the ' +\n",
              "            '<a target=\"_blank\" href=https://colab.research.google.com/notebooks/data_table.ipynb>data table notebook</a>'\n",
              "            + ' to learn more about interactive tables.';\n",
              "          element.innerHTML = '';\n",
              "          dataTable['output_type'] = 'display_data';\n",
              "          await google.colab.output.renderOutput(dataTable, element);\n",
              "          const docLink = document.createElement('div');\n",
              "          docLink.innerHTML = docLinkHtml;\n",
              "          element.appendChild(docLink);\n",
              "        }\n",
              "      </script>\n",
              "    </div>\n",
              "  </div>\n",
              "  "
            ]
          },
          "metadata": {},
          "execution_count": 4
        }
      ],
      "source": [
        "rus = RandomUnderSampler(random_state=42)\n",
        "X_train_rus, y_train_rus = rus.fit_resample(X_train, y_train_categories)\n",
        "\n",
        "X_train_rus['riscofogo'] = target\n",
        "\n",
        "X_train_rus"
      ]
    },
    {
      "cell_type": "code",
      "execution_count": null,
      "metadata": {
        "colab": {
          "base_uri": "https://localhost:8080/",
          "height": 17
        },
        "id": "G7Gool8OKi-9",
        "outputId": "60130879-c1a6-41b8-bc56-3ec03b9b0125"
      },
      "outputs": [
        {
          "data": {
            "application/javascript": [
              "\n",
              "    async function download(id, filename, size) {\n",
              "      if (!google.colab.kernel.accessAllowed) {\n",
              "        return;\n",
              "      }\n",
              "      const div = document.createElement('div');\n",
              "      const label = document.createElement('label');\n",
              "      label.textContent = `Downloading \"${filename}\": `;\n",
              "      div.appendChild(label);\n",
              "      const progress = document.createElement('progress');\n",
              "      progress.max = size;\n",
              "      div.appendChild(progress);\n",
              "      document.body.appendChild(div);\n",
              "\n",
              "      const buffers = [];\n",
              "      let downloaded = 0;\n",
              "\n",
              "      const channel = await google.colab.kernel.comms.open(id);\n",
              "      // Send a message to notify the kernel that we're ready.\n",
              "      channel.send({})\n",
              "\n",
              "      for await (const message of channel.messages) {\n",
              "        // Send a message to notify the kernel that we're ready.\n",
              "        channel.send({})\n",
              "        if (message.buffers) {\n",
              "          for (const buffer of message.buffers) {\n",
              "            buffers.push(buffer);\n",
              "            downloaded += buffer.byteLength;\n",
              "            progress.value = downloaded;\n",
              "          }\n",
              "        }\n",
              "      }\n",
              "      const blob = new Blob(buffers, {type: 'application/binary'});\n",
              "      const a = document.createElement('a');\n",
              "      a.href = window.URL.createObjectURL(blob);\n",
              "      a.download = filename;\n",
              "      div.appendChild(a);\n",
              "      a.click();\n",
              "      div.remove();\n",
              "    }\n",
              "  "
            ],
            "text/plain": [
              "<IPython.core.display.Javascript object>"
            ]
          },
          "metadata": {},
          "output_type": "display_data"
        },
        {
          "data": {
            "application/javascript": [
              "download(\"download_a8c2f5ec-7480-477d-bcf5-6e7f8806e8e9\", \"incendios_processado.csv\", 8457967)"
            ],
            "text/plain": [
              "<IPython.core.display.Javascript object>"
            ]
          },
          "metadata": {},
          "output_type": "display_data"
        }
      ],
      "source": [
        "from google.colab import files\n",
        "X_train_rus.to_csv('incendios_processado.csv', index=False)\n",
        "files.download('incendios_processado.csv')"
      ]
    },
    {
      "cell_type": "markdown",
      "metadata": {
        "id": "YHLcL5cw7wSt"
      },
      "source": [
        "# Modelagem"
      ]
    },
    {
      "cell_type": "code",
      "execution_count": 1,
      "metadata": {
        "colab": {
          "base_uri": "https://localhost:8080/",
          "height": 216
        },
        "id": "MNb4ToakmB_s",
        "outputId": "a20ed5d5-c577-446f-d0de-9db2ab328fc9"
      },
      "outputs": [
        {
          "output_type": "error",
          "ename": "NameError",
          "evalue": "name 'X_train_RFE10' is not defined",
          "traceback": [
            "\u001b[0;31m---------------------------------------------------------------------------\u001b[0m",
            "\u001b[0;31mNameError\u001b[0m                                 Traceback (most recent call last)",
            "\u001b[0;32m<ipython-input-1-a4141df11079>\u001b[0m in \u001b[0;36m<cell line: 11>\u001b[0;34m()\u001b[0m\n\u001b[1;32m      9\u001b[0m \u001b[0;34m\u001b[0m\u001b[0m\n\u001b[1;32m     10\u001b[0m \u001b[0mmodel_lr\u001b[0m \u001b[0;34m=\u001b[0m \u001b[0mLogisticRegression\u001b[0m\u001b[0;34m(\u001b[0m\u001b[0;34m)\u001b[0m\u001b[0;34m\u001b[0m\u001b[0;34m\u001b[0m\u001b[0m\n\u001b[0;32m---> 11\u001b[0;31m \u001b[0mmodel_lr\u001b[0m\u001b[0;34m.\u001b[0m\u001b[0mfit\u001b[0m\u001b[0;34m(\u001b[0m\u001b[0mX_train_RFE10\u001b[0m\u001b[0;34m,\u001b[0m \u001b[0my_train_categories\u001b[0m\u001b[0;34m)\u001b[0m\u001b[0;34m\u001b[0m\u001b[0;34m\u001b[0m\u001b[0m\n\u001b[0m\u001b[1;32m     12\u001b[0m \u001b[0mpred_lr\u001b[0m \u001b[0;34m=\u001b[0m \u001b[0mmodel_lr\u001b[0m\u001b[0;34m.\u001b[0m\u001b[0mpredict\u001b[0m\u001b[0;34m(\u001b[0m\u001b[0mX_test_RFE10\u001b[0m\u001b[0;34m)\u001b[0m\u001b[0;34m\u001b[0m\u001b[0;34m\u001b[0m\u001b[0m\n\u001b[1;32m     13\u001b[0m \u001b[0;34m\u001b[0m\u001b[0m\n",
            "\u001b[0;31mNameError\u001b[0m: name 'X_train_RFE10' is not defined"
          ]
        }
      ],
      "source": [
        "# Importar bibliotecas necessárias\n",
        "from sklearn.linear_model import LogisticRegression\n",
        "from sklearn.tree import DecisionTreeClassifier\n",
        "from sklearn.neural_network import MLPClassifier\n",
        "from sklearn.naive_bayes import GaussianNB\n",
        "from sklearn.model_selection import GridSearchCV\n",
        "\n",
        "from sklearn.metrics import accuracy_score\n",
        "\n",
        "model_lr = LogisticRegression()\n",
        "model_lr.fit(X_train_RFE10, y_train_categories)\n",
        "pred_lr = model_lr.predict(X_test_RFE10)\n",
        "\n",
        "acc_lr = accuracy_score(y_test_categories, pred_lr)\n",
        "\n",
        "print(\"Acurácia Regressão Logística RFE10:\", acc_lr)\n",
        "\n",
        "model_lr = LogisticRegression()\n",
        "model_lr.fit(X_train_RFE5, y_train_categories)\n",
        "pred_lr = model_lr.predict(X_test_RFE5)\n",
        "\n",
        "acc_lr = accuracy_score(y_test_categories, pred_lr)\n",
        "print(\"Acurácia Regressão Logística RFE5:\", acc_lr)\n",
        "\n",
        "model_lr = LogisticRegression()\n",
        "model_lr.fit(X_trainsSB12, y_train_categories)\n",
        "pred_lr = model_lr.predict(X_testSB12)\n",
        "\n",
        "acc_lr = accuracy_score(y_test_categories, pred_lr)\n",
        "\n",
        "print(\"Acurácia Regressão Logística SB12:\", acc_lr)\n",
        "\n",
        "model_lr = LogisticRegression()\n",
        "model_lr.fit(X_trainsSB6, y_train_categories)\n",
        "pred_lr = model_lr.predict(X_testSB6)\n",
        "\n",
        "acc_lr = accuracy_score(y_test_categories, pred_lr)\n",
        "print(\"Acurácia Regressão Logística SB6:\", acc_lr)\n",
        "\n",
        "\n",
        "\n",
        "\n",
        "\n",
        "\n",
        "model_lr = DecisionTreeClassifier()\n",
        "model_lr.fit(X_train_RFE10, y_train_categories)\n",
        "pred_lr = model_lr.predict(X_test_RFE10)\n",
        "\n",
        "acc_lr = accuracy_score(y_test_categories, pred_lr)\n",
        "\n",
        "print(\"Acurácia Árvore de Decisão RF10:\", acc_lr)\n",
        "\n",
        "model_lr = DecisionTreeClassifier()\n",
        "model_lr.fit(X_train_RFE5, y_train_categories)\n",
        "pred_lr = model_lr.predict(X_test_RFE5)\n",
        "\n",
        "acc_lr = accuracy_score(y_test_categories, pred_lr)\n",
        "print(\"Acurácia Árvore de Decisão RF5:\", acc_lr)\n",
        "\n",
        "model_lr = DecisionTreeClassifier()\n",
        "model_lr.fit(X_trainsSB12, y_train_categories)\n",
        "pred_lr = model_lr.predict(X_testSB12)\n",
        "\n",
        "acc_lr = accuracy_score(y_test_categories, pred_lr)\n",
        "acc_lrBest = acc_lr\n",
        "print(\"Acurácia Árvore de Decisão SB12:\", acc_lr)\n",
        "\n",
        "model_lr = DecisionTreeClassifier()\n",
        "model_lr.fit(X_trainsSB6, y_train_categories)\n",
        "pred_lr = model_lr.predict(X_testSB6)\n",
        "\n",
        "acc_lr = accuracy_score(y_test_categories, pred_lr)\n",
        "print(\"Acurácia Árvore de Decisão SB6:\", acc_lr)\n",
        "\n",
        "\n",
        "\n",
        "\n",
        "\n",
        "\n",
        "model_lr = MLPClassifier()\n",
        "model_lr.fit(X_train_RFE10, y_train_categories)\n",
        "pred_lr = model_lr.predict(X_test_RFE10)\n",
        "\n",
        "acc_lr = accuracy_score(y_test_categories, pred_lr)\n",
        "\n",
        "print(\"Acurácia MLPClassifier RF10:\", acc_lr)\n",
        "\n",
        "model_lr = MLPClassifier()\n",
        "model_lr.fit(X_train_RFE5, y_train_categories)\n",
        "pred_lr = model_lr.predict(X_test_RFE5)\n",
        "\n",
        "acc_lr = accuracy_score(y_test_categories, pred_lr)\n",
        "print(\"Acurácia MLPClassifier RF5:\", acc_lr)\n",
        "\n",
        "model_lr = MLPClassifier()\n",
        "model_lr.fit(X_trainsSB12, y_train_categories)\n",
        "pred_lr = model_lr.predict(X_testSB12)\n",
        "\n",
        "acc_lr = accuracy_score(y_test_categories, pred_lr)\n",
        "\n",
        "print(\"Acurácia MLPClassifier SB12:\", acc_lr)\n",
        "\n",
        "model_lr = MLPClassifier()\n",
        "model_lr.fit(X_trainsSB6, y_train_categories)\n",
        "pred_lr = model_lr.predict(X_testSB6)\n",
        "\n",
        "acc_lr = accuracy_score(y_test_categories, pred_lr)\n",
        "print(\"Acurácia MLPClassifier SB6:\", acc_lr)\n",
        "\n",
        "\n",
        "\n",
        "\n",
        "model_lr = GaussianNB()\n",
        "model_lr.fit(X_train_RFE10, y_train_categories)\n",
        "pred_lr = model_lr.predict(X_test_RFE10)\n",
        "\n",
        "acc_lr = accuracy_score(y_test_categories, pred_lr)\n",
        "\n",
        "print(\"Acurácia GaussianNB RF10:\", acc_lr)\n",
        "\n",
        "model_lr = GaussianNB()\n",
        "model_lr.fit(X_train_RFE5, y_train_categories)\n",
        "pred_lr = model_lr.predict(X_test_RFE5)\n",
        "\n",
        "acc_lr = accuracy_score(y_test_categories, pred_lr)\n",
        "print(\"Acurácia GaussianNB RF5:\", acc_lr)\n",
        "\n",
        "model_lr = GaussianNB()\n",
        "model_lr.fit(X_trainsSB12, y_train_categories)\n",
        "pred_lr = model_lr.predict(X_testSB12)\n",
        "\n",
        "acc_lr = accuracy_score(y_test_categories, pred_lr)\n",
        "\n",
        "print(\"Acurácia GaussianNB SB12:\", acc_lr)\n",
        "\n",
        "model_lr = GaussianNB()\n",
        "model_lr.fit(X_trainsSB6, y_train_categories)\n",
        "pred_lr = model_lr.predict(X_testSB6)\n",
        "\n",
        "acc_lr = accuracy_score(y_test_categories, pred_lr)\n",
        "print(\"Acurácia GaussianNB SB6:\", acc_lr)\n",
        "\n",
        "\n",
        "print(\"Melhor acurácia SB12:\", acc_lrBest)"
      ]
    },
    {
      "cell_type": "code",
      "execution_count": null,
      "metadata": {
        "id": "ElrKnpUynOz4"
      },
      "outputs": [],
      "source": [
        "params = {\n",
        "    'criterion':('gini', 'entropy', 'log_loss'),\n",
        "    'max_depth':[3, 5, 7, None],\n",
        "    'min_samples_split': [2, 5, 10],\n",
        "    'min_samples_leaf': [1, 2, 4]\n",
        "}\n",
        "\n",
        "rf = DecisionTreeClassifier(random_state=88)\n",
        "gs = GridSearchCV(rf, params, cv=5)\n",
        "gs.fit(X_trainsSB12, y_train_categories)\n",
        "print('Melhores hiperparâmetros para DecisionTreeClassifier:', gs.best_params_)\n"
      ]
    },
    {
      "cell_type": "markdown",
      "metadata": {
        "id": "C78Wrxgd3Sk0"
      },
      "source": [
        "# Avaliação de Modelo"
      ]
    },
    {
      "cell_type": "code",
      "execution_count": null,
      "metadata": {
        "id": "18osNpZP3YQq"
      },
      "outputs": [],
      "source": [
        "columnsSB34 = generateColumnsSb(X_train, y_train_categories, 34)\n",
        "\n",
        "X_trainsSB34, X_testSB34 = X_train[columnsSB34], X_test[columnsSB34]\n",
        "\n",
        "columnsSB24 = generateColumnsSb(X_train, y_train_categories, 24)\n",
        "\n",
        "X_trainsSB24, X_testSB24 = X_train[columnsSB24], X_test[columnsSB24]\n"
      ]
    },
    {
      "cell_type": "markdown",
      "metadata": {
        "id": "2RB-Z9MPGDoZ"
      },
      "source": [
        "Classificação"
      ]
    },
    {
      "cell_type": "markdown",
      "metadata": {
        "id": "uS5gs-ftsBrZ"
      },
      "source": [
        "##**DecisionTree**#"
      ]
    },
    {
      "cell_type": "code",
      "execution_count": null,
      "metadata": {
        "id": "1GK-d39S0HY8"
      },
      "outputs": [],
      "source": [
        "from sklearn.tree import DecisionTreeClassifier"
      ]
    },
    {
      "cell_type": "markdown",
      "metadata": {
        "id": "6U9z7930s6H1"
      },
      "source": [
        "Acurácia"
      ]
    },
    {
      "cell_type": "code",
      "execution_count": null,
      "metadata": {
        "id": "gq1co7uJ2c7H"
      },
      "outputs": [],
      "source": [
        "from sklearn.metrics import accuracy_score"
      ]
    },
    {
      "cell_type": "code",
      "execution_count": null,
      "metadata": {
        "colab": {
          "base_uri": "https://localhost:8080/"
        },
        "id": "0Z92dDrAtFQN",
        "outputId": "fe09e0ff-e07c-460f-cd7d-fef270e8df68"
      },
      "outputs": [
        {
          "output_type": "stream",
          "name": "stdout",
          "text": [
            "Acurácia Arvore de Descisão sb34: 0.8627468581687612\n",
            "Acurácia Arvore de Decisão sb24: 0.8670406941950928\n",
            "Acurácia Arvore de Decisão sb12: 0.8619838420107719\n"
          ]
        }
      ],
      "source": [
        "model_lr = DecisionTreeClassifier()\n",
        "model_lr.fit(X_trainsSB34, y_train_categories)\n",
        "pred_lrDTSB34 = model_lr.predict(X_testSB34)\n",
        "\n",
        "acc_lrDTSB34 = accuracy_score(y_test_categories, pred_lrDTSB34)\n",
        "\n",
        "print(\"Acurácia Arvore de Descisão sb34:\", acc_lrDTSB34)\n",
        "\n",
        "model_lr = DecisionTreeClassifier()\n",
        "model_lr.fit(X_trainsSB24, y_train_categories)\n",
        "pred_lrDTSB24 = model_lr.predict(X_testSB24)\n",
        "\n",
        "acc_lrDTSB24 = accuracy_score(y_test_categories, pred_lrDTSB24)\n",
        "\n",
        "print(\"Acurácia Arvore de Decisão sb24:\", acc_lrDTSB24)\n",
        "\n",
        "model_lr = DecisionTreeClassifier()\n",
        "model_lr.fit(X_trainsSB12, y_train_categories)\n",
        "pred_lrDTSB12 = model_lr.predict(X_testSB12)\n",
        "\n",
        "acc_lrDTSB12 = accuracy_score(y_test_categories, pred_lrDTSB12)\n",
        "\n",
        "print(\"Acurácia Arvore de Decisão sb12:\", acc_lrDTSB12)"
      ]
    },
    {
      "cell_type": "code",
      "execution_count": null,
      "metadata": {
        "colab": {
          "base_uri": "https://localhost:8080/",
          "height": 472
        },
        "id": "2AP9pUGaTEAK",
        "outputId": "dd934f37-4e9a-4671-e78c-99b8f527a78a"
      },
      "outputs": [
        {
          "output_type": "display_data",
          "data": {
            "text/plain": [
              "<Figure size 640x480 with 1 Axes>"
            ],
            "image/png": "[encoded data removed]"
          },
          "metadata": {}
        }
      ],
      "source": [
        "import matplotlib.pyplot as plt\n",
        "from sklearn.tree import DecisionTreeClassifier\n",
        "from sklearn.metrics import accuracy_score\n",
        "\n",
        "\n",
        "metrics = []\n",
        "num_attributes = []\n",
        "\n",
        "metrics.append(acc_lrDTSB34)\n",
        "num_attributes.append(len(X_trainsSB34.columns))\n",
        "\n",
        "metrics.append(acc_lrDTSB24)\n",
        "num_attributes.append(len(X_trainsSB24.columns))\n",
        "\n",
        "metrics.append(acc_lrDTSB12)\n",
        "num_attributes.append(len(X_trainsSB12.columns))\n",
        "\n",
        "plt.plot(num_attributes, metrics, marker='o')\n",
        "plt.xlabel('Quantidade de atributos')\n",
        "plt.ylabel('Acurácia')\n",
        "plt.title('Acurácia em relação à quantidade de atributos')\n",
        "plt.show()"
      ]
    },
    {
      "cell_type": "markdown",
      "metadata": {
        "id": "CFHu-y6jtJq7"
      },
      "source": [
        "Matriz de Confusão"
      ]
    },
    {
      "cell_type": "code",
      "execution_count": null,
      "metadata": {
        "id": "gDMpEWgMwHBe"
      },
      "outputs": [],
      "source": [
        "from  sklearn.metrics import confusion_matrix"
      ]
    },
    {
      "cell_type": "markdown",
      "metadata": {
        "id": "oGilLJWvwEk6"
      },
      "source": [
        "34 colunas"
      ]
    },
    {
      "cell_type": "code",
      "execution_count": null,
      "metadata": {
        "colab": {
          "base_uri": "https://localhost:8080/",
          "height": 112
        },
        "id": "F7v3Ru7NwFoJ",
        "outputId": "859f1970-f61f-482e-bf18-c4eae88e3772"
      },
      "outputs": [
        {
          "output_type": "execute_result",
          "data": {
            "text/plain": [
              "        Predito 0  Predito 1\n",
              "Real 0      12216       4598\n",
              "Real 1       4576      45450"
            ],
            "text/html": [
              "\n",
              "  <div id=\"df-73c4e87c-fae5-4404-9f5c-dab639148b99\">\n",
              "    <div class=\"colab-df-container\">\n",
              "      <div>\n",
              "<style scoped>\n",
              "    .dataframe tbody tr th:only-of-type {\n",
              "        vertical-align: middle;\n",
              "    }\n",
              "\n",
              "    .dataframe tbody tr th {\n",
              "        vertical-align: top;\n",
              "    }\n",
              "\n",
              "    .dataframe thead th {\n",
              "        text-align: right;\n",
              "    }\n",
              "</style>\n",
              "<table border=\"1\" class=\"dataframe\">\n",
              "  <thead>\n",
              "    <tr style=\"text-align: right;\">\n",
              "      <th></th>\n",
              "      <th>Predito 0</th>\n",
              "      <th>Predito 1</th>\n",
              "    </tr>\n",
              "  </thead>\n",
              "  <tbody>\n",
              "    <tr>\n",
              "      <th>Real 0</th>\n",
              "      <td>12216</td>\n",
              "      <td>4598</td>\n",
              "    </tr>\n",
              "    <tr>\n",
              "      <th>Real 1</th>\n",
              "      <td>4576</td>\n",
              "      <td>45450</td>\n",
              "    </tr>\n",
              "  </tbody>\n",
              "</table>\n",
              "</div>\n",
              "      <button class=\"colab-df-convert\" onclick=\"convertToInteractive('df-73c4e87c-fae5-4404-9f5c-dab639148b99')\"\n",
              "              title=\"Convert this dataframe to an interactive table.\"\n",
              "              style=\"display:none;\">\n",
              "        \n",
              "  <svg xmlns=\"http://www.w3.org/2000/svg\" height=\"24px\"viewBox=\"0 0 24 24\"\n",
              "       width=\"24px\">\n",
              "    <path d=\"M0 0h24v24H0V0z\" fill=\"none\"/>\n",
              "    <path d=\"M18.56 5.44l.94 2.06.94-2.06 2.06-.94-2.06-.94-.94-2.06-.94 2.06-2.06.94zm-11 1L8.5 8.5l.94-2.06 2.06-.94-2.06-.94L8.5 2.5l-.94 2.06-2.06.94zm10 10l.94 2.06.94-2.06 2.06-.94-2.06-.94-.94-2.06-.94 2.06-2.06.94z\"/><path d=\"M17.41 7.96l-1.37-1.37c-.4-.4-.92-.59-1.43-.59-.52 0-1.04.2-1.43.59L10.3 9.45l-7.72 7.72c-.78.78-.78 2.05 0 2.83L4 21.41c.39.39.9.59 1.41.59.51 0 1.02-.2 1.41-.59l7.78-7.78 2.81-2.81c.8-.78.8-2.07 0-2.86zM5.41 20L4 18.59l7.72-7.72 1.47 1.35L5.41 20z\"/>\n",
              "  </svg>\n",
              "      </button>\n",
              "      \n",
              "  <style>\n",
              "    .colab-df-container {\n",
              "      display:flex;\n",
              "      flex-wrap:wrap;\n",
              "      gap: 12px;\n",
              "    }\n",
              "\n",
              "    .colab-df-convert {\n",
              "      background-color: #E8F0FE;\n",
              "      border: none;\n",
              "      border-radius: 50%;\n",
              "      cursor: pointer;\n",
              "      display: none;\n",
              "      fill: #1967D2;\n",
              "      height: 32px;\n",
              "      padding: 0 0 0 0;\n",
              "      width: 32px;\n",
              "    }\n",
              "\n",
              "    .colab-df-convert:hover {\n",
              "      background-color: #E2EBFA;\n",
              "      box-shadow: 0px 1px 2px rgba(60, 64, 67, 0.3), 0px 1px 3px 1px rgba(60, 64, 67, 0.15);\n",
              "      fill: #174EA6;\n",
              "    }\n",
              "\n",
              "    [theme=dark] .colab-df-convert {\n",
              "      background-color: #3B4455;\n",
              "      fill: #D2E3FC;\n",
              "    }\n",
              "\n",
              "    [theme=dark] .colab-df-convert:hover {\n",
              "      background-color: #434B5C;\n",
              "      box-shadow: 0px 1px 3px 1px rgba(0, 0, 0, 0.15);\n",
              "      filter: drop-shadow(0px 1px 2px rgba(0, 0, 0, 0.3));\n",
              "      fill: #FFFFFF;\n",
              "    }\n",
              "  </style>\n",
              "\n",
              "      <script>\n",
              "        const buttonEl =\n",
              "          document.querySelector('#df-73c4e87c-fae5-4404-9f5c-dab639148b99 button.colab-df-convert');\n",
              "        buttonEl.style.display =\n",
              "          google.colab.kernel.accessAllowed ? 'block' : 'none';\n",
              "\n",
              "        async function convertToInteractive(key) {\n",
              "          const element = document.querySelector('#df-73c4e87c-fae5-4404-9f5c-dab639148b99');\n",
              "          const dataTable =\n",
              "            await google.colab.kernel.invokeFunction('convertToInteractive',\n",
              "                                                     [key], {});\n",
              "          if (!dataTable) return;\n",
              "\n",
              "          const docLinkHtml = 'Like what you see? Visit the ' +\n",
              "            '<a target=\"_blank\" href=https://colab.research.google.com/notebooks/data_table.ipynb>data table notebook</a>'\n",
              "            + ' to learn more about interactive tables.';\n",
              "          element.innerHTML = '';\n",
              "          dataTable['output_type'] = 'display_data';\n",
              "          await google.colab.output.renderOutput(dataTable, element);\n",
              "          const docLink = document.createElement('div');\n",
              "          docLink.innerHTML = docLinkHtml;\n",
              "          element.appendChild(docLink);\n",
              "        }\n",
              "      </script>\n",
              "    </div>\n",
              "  </div>\n",
              "  "
            ]
          },
          "metadata": {},
          "execution_count": 10
        }
      ],
      "source": [
        "mc = confusion_matrix(y_test_categories, pred_lrDTSB34)\n",
        "\n",
        "# mostrar um DF\n",
        "df_mc = pd.DataFrame(mc, columns=['Predito 0', 'Predito 1'], index=['Real 0', 'Real 1'])\n",
        "\n",
        "df_mc"
      ]
    },
    {
      "cell_type": "markdown",
      "metadata": {
        "id": "3jeTTQaBwN3J"
      },
      "source": [
        "24 colunas"
      ]
    },
    {
      "cell_type": "code",
      "execution_count": null,
      "metadata": {
        "colab": {
          "base_uri": "https://localhost:8080/",
          "height": 112
        },
        "id": "w77UC1yAwPIl",
        "outputId": "c2739adc-ece8-44af-f541-1eb5186aba19"
      },
      "outputs": [
        {
          "output_type": "execute_result",
          "data": {
            "text/plain": [
              "        Predito 0  Predito 1\n",
              "Real 0      11941       4873\n",
              "Real 1       4014      46012"
            ],
            "text/html": [
              "\n",
              "  <div id=\"df-89e25d9d-255a-41b7-9d22-b3701a72b4a3\">\n",
              "    <div class=\"colab-df-container\">\n",
              "      <div>\n",
              "<style scoped>\n",
              "    .dataframe tbody tr th:only-of-type {\n",
              "        vertical-align: middle;\n",
              "    }\n",
              "\n",
              "    .dataframe tbody tr th {\n",
              "        vertical-align: top;\n",
              "    }\n",
              "\n",
              "    .dataframe thead th {\n",
              "        text-align: right;\n",
              "    }\n",
              "</style>\n",
              "<table border=\"1\" class=\"dataframe\">\n",
              "  <thead>\n",
              "    <tr style=\"text-align: right;\">\n",
              "      <th></th>\n",
              "      <th>Predito 0</th>\n",
              "      <th>Predito 1</th>\n",
              "    </tr>\n",
              "  </thead>\n",
              "  <tbody>\n",
              "    <tr>\n",
              "      <th>Real 0</th>\n",
              "      <td>11941</td>\n",
              "      <td>4873</td>\n",
              "    </tr>\n",
              "    <tr>\n",
              "      <th>Real 1</th>\n",
              "      <td>4014</td>\n",
              "      <td>46012</td>\n",
              "    </tr>\n",
              "  </tbody>\n",
              "</table>\n",
              "</div>\n",
              "      <button class=\"colab-df-convert\" onclick=\"convertToInteractive('df-89e25d9d-255a-41b7-9d22-b3701a72b4a3')\"\n",
              "              title=\"Convert this dataframe to an interactive table.\"\n",
              "              style=\"display:none;\">\n",
              "        \n",
              "  <svg xmlns=\"http://www.w3.org/2000/svg\" height=\"24px\"viewBox=\"0 0 24 24\"\n",
              "       width=\"24px\">\n",
              "    <path d=\"M0 0h24v24H0V0z\" fill=\"none\"/>\n",
              "    <path d=\"M18.56 5.44l.94 2.06.94-2.06 2.06-.94-2.06-.94-.94-2.06-.94 2.06-2.06.94zm-11 1L8.5 8.5l.94-2.06 2.06-.94-2.06-.94L8.5 2.5l-.94 2.06-2.06.94zm10 10l.94 2.06.94-2.06 2.06-.94-2.06-.94-.94-2.06-.94 2.06-2.06.94z\"/><path d=\"M17.41 7.96l-1.37-1.37c-.4-.4-.92-.59-1.43-.59-.52 0-1.04.2-1.43.59L10.3 9.45l-7.72 7.72c-.78.78-.78 2.05 0 2.83L4 21.41c.39.39.9.59 1.41.59.51 0 1.02-.2 1.41-.59l7.78-7.78 2.81-2.81c.8-.78.8-2.07 0-2.86zM5.41 20L4 18.59l7.72-7.72 1.47 1.35L5.41 20z\"/>\n",
              "  </svg>\n",
              "      </button>\n",
              "      \n",
              "  <style>\n",
              "    .colab-df-container {\n",
              "      display:flex;\n",
              "      flex-wrap:wrap;\n",
              "      gap: 12px;\n",
              "    }\n",
              "\n",
              "    .colab-df-convert {\n",
              "      background-color: #E8F0FE;\n",
              "      border: none;\n",
              "      border-radius: 50%;\n",
              "      cursor: pointer;\n",
              "      display: none;\n",
              "      fill: #1967D2;\n",
              "      height: 32px;\n",
              "      padding: 0 0 0 0;\n",
              "      width: 32px;\n",
              "    }\n",
              "\n",
              "    .colab-df-convert:hover {\n",
              "      background-color: #E2EBFA;\n",
              "      box-shadow: 0px 1px 2px rgba(60, 64, 67, 0.3), 0px 1px 3px 1px rgba(60, 64, 67, 0.15);\n",
              "      fill: #174EA6;\n",
              "    }\n",
              "\n",
              "    [theme=dark] .colab-df-convert {\n",
              "      background-color: #3B4455;\n",
              "      fill: #D2E3FC;\n",
              "    }\n",
              "\n",
              "    [theme=dark] .colab-df-convert:hover {\n",
              "      background-color: #434B5C;\n",
              "      box-shadow: 0px 1px 3px 1px rgba(0, 0, 0, 0.15);\n",
              "      filter: drop-shadow(0px 1px 2px rgba(0, 0, 0, 0.3));\n",
              "      fill: #FFFFFF;\n",
              "    }\n",
              "  </style>\n",
              "\n",
              "      <script>\n",
              "        const buttonEl =\n",
              "          document.querySelector('#df-89e25d9d-255a-41b7-9d22-b3701a72b4a3 button.colab-df-convert');\n",
              "        buttonEl.style.display =\n",
              "          google.colab.kernel.accessAllowed ? 'block' : 'none';\n",
              "\n",
              "        async function convertToInteractive(key) {\n",
              "          const element = document.querySelector('#df-89e25d9d-255a-41b7-9d22-b3701a72b4a3');\n",
              "          const dataTable =\n",
              "            await google.colab.kernel.invokeFunction('convertToInteractive',\n",
              "                                                     [key], {});\n",
              "          if (!dataTable) return;\n",
              "\n",
              "          const docLinkHtml = 'Like what you see? Visit the ' +\n",
              "            '<a target=\"_blank\" href=https://colab.research.google.com/notebooks/data_table.ipynb>data table notebook</a>'\n",
              "            + ' to learn more about interactive tables.';\n",
              "          element.innerHTML = '';\n",
              "          dataTable['output_type'] = 'display_data';\n",
              "          await google.colab.output.renderOutput(dataTable, element);\n",
              "          const docLink = document.createElement('div');\n",
              "          docLink.innerHTML = docLinkHtml;\n",
              "          element.appendChild(docLink);\n",
              "        }\n",
              "      </script>\n",
              "    </div>\n",
              "  </div>\n",
              "  "
            ]
          },
          "metadata": {},
          "execution_count": 11
        }
      ],
      "source": [
        "mc = confusion_matrix(y_test_categories, pred_lrDTSB24)\n",
        "\n",
        "# mostrar um DF\n",
        "df_mc = pd.DataFrame(mc, columns=['Predito 0', 'Predito 1'], index=['Real 0', 'Real 1'])\n",
        "\n",
        "df_mc"
      ]
    },
    {
      "cell_type": "markdown",
      "metadata": {
        "id": "i1tSNaiUwV-n"
      },
      "source": [
        "12 colunas"
      ]
    },
    {
      "cell_type": "code",
      "execution_count": null,
      "metadata": {
        "colab": {
          "base_uri": "https://localhost:8080/",
          "height": 112
        },
        "id": "bNoM4DwitN5T",
        "outputId": "5c5049ca-8e1a-49e4-c842-053de39edfb8"
      },
      "outputs": [
        {
          "output_type": "execute_result",
          "data": {
            "text/plain": [
              "        Predito 0  Predito 1\n",
              "Real 0      11770       5044\n",
              "Real 1       4181      45845"
            ],
            "text/html": [
              "\n",
              "  <div id=\"df-16112044-220b-4b8a-b838-f5b437281dfb\">\n",
              "    <div class=\"colab-df-container\">\n",
              "      <div>\n",
              "<style scoped>\n",
              "    .dataframe tbody tr th:only-of-type {\n",
              "        vertical-align: middle;\n",
              "    }\n",
              "\n",
              "    .dataframe tbody tr th {\n",
              "        vertical-align: top;\n",
              "    }\n",
              "\n",
              "    .dataframe thead th {\n",
              "        text-align: right;\n",
              "    }\n",
              "</style>\n",
              "<table border=\"1\" class=\"dataframe\">\n",
              "  <thead>\n",
              "    <tr style=\"text-align: right;\">\n",
              "      <th></th>\n",
              "      <th>Predito 0</th>\n",
              "      <th>Predito 1</th>\n",
              "    </tr>\n",
              "  </thead>\n",
              "  <tbody>\n",
              "    <tr>\n",
              "      <th>Real 0</th>\n",
              "      <td>11770</td>\n",
              "      <td>5044</td>\n",
              "    </tr>\n",
              "    <tr>\n",
              "      <th>Real 1</th>\n",
              "      <td>4181</td>\n",
              "      <td>45845</td>\n",
              "    </tr>\n",
              "  </tbody>\n",
              "</table>\n",
              "</div>\n",
              "      <button class=\"colab-df-convert\" onclick=\"convertToInteractive('df-16112044-220b-4b8a-b838-f5b437281dfb')\"\n",
              "              title=\"Convert this dataframe to an interactive table.\"\n",
              "              style=\"display:none;\">\n",
              "        \n",
              "  <svg xmlns=\"http://www.w3.org/2000/svg\" height=\"24px\"viewBox=\"0 0 24 24\"\n",
              "       width=\"24px\">\n",
              "    <path d=\"M0 0h24v24H0V0z\" fill=\"none\"/>\n",
              "    <path d=\"M18.56 5.44l.94 2.06.94-2.06 2.06-.94-2.06-.94-.94-2.06-.94 2.06-2.06.94zm-11 1L8.5 8.5l.94-2.06 2.06-.94-2.06-.94L8.5 2.5l-.94 2.06-2.06.94zm10 10l.94 2.06.94-2.06 2.06-.94-2.06-.94-.94-2.06-.94 2.06-2.06.94z\"/><path d=\"M17.41 7.96l-1.37-1.37c-.4-.4-.92-.59-1.43-.59-.52 0-1.04.2-1.43.59L10.3 9.45l-7.72 7.72c-.78.78-.78 2.05 0 2.83L4 21.41c.39.39.9.59 1.41.59.51 0 1.02-.2 1.41-.59l7.78-7.78 2.81-2.81c.8-.78.8-2.07 0-2.86zM5.41 20L4 18.59l7.72-7.72 1.47 1.35L5.41 20z\"/>\n",
              "  </svg>\n",
              "      </button>\n",
              "      \n",
              "  <style>\n",
              "    .colab-df-container {\n",
              "      display:flex;\n",
              "      flex-wrap:wrap;\n",
              "      gap: 12px;\n",
              "    }\n",
              "\n",
              "    .colab-df-convert {\n",
              "      background-color: #E8F0FE;\n",
              "      border: none;\n",
              "      border-radius: 50%;\n",
              "      cursor: pointer;\n",
              "      display: none;\n",
              "      fill: #1967D2;\n",
              "      height: 32px;\n",
              "      padding: 0 0 0 0;\n",
              "      width: 32px;\n",
              "    }\n",
              "\n",
              "    .colab-df-convert:hover {\n",
              "      background-color: #E2EBFA;\n",
              "      box-shadow: 0px 1px 2px rgba(60, 64, 67, 0.3), 0px 1px 3px 1px rgba(60, 64, 67, 0.15);\n",
              "      fill: #174EA6;\n",
              "    }\n",
              "\n",
              "    [theme=dark] .colab-df-convert {\n",
              "      background-color: #3B4455;\n",
              "      fill: #D2E3FC;\n",
              "    }\n",
              "\n",
              "    [theme=dark] .colab-df-convert:hover {\n",
              "      background-color: #434B5C;\n",
              "      box-shadow: 0px 1px 3px 1px rgba(0, 0, 0, 0.15);\n",
              "      filter: drop-shadow(0px 1px 2px rgba(0, 0, 0, 0.3));\n",
              "      fill: #FFFFFF;\n",
              "    }\n",
              "  </style>\n",
              "\n",
              "      <script>\n",
              "        const buttonEl =\n",
              "          document.querySelector('#df-16112044-220b-4b8a-b838-f5b437281dfb button.colab-df-convert');\n",
              "        buttonEl.style.display =\n",
              "          google.colab.kernel.accessAllowed ? 'block' : 'none';\n",
              "\n",
              "        async function convertToInteractive(key) {\n",
              "          const element = document.querySelector('#df-16112044-220b-4b8a-b838-f5b437281dfb');\n",
              "          const dataTable =\n",
              "            await google.colab.kernel.invokeFunction('convertToInteractive',\n",
              "                                                     [key], {});\n",
              "          if (!dataTable) return;\n",
              "\n",
              "          const docLinkHtml = 'Like what you see? Visit the ' +\n",
              "            '<a target=\"_blank\" href=https://colab.research.google.com/notebooks/data_table.ipynb>data table notebook</a>'\n",
              "            + ' to learn more about interactive tables.';\n",
              "          element.innerHTML = '';\n",
              "          dataTable['output_type'] = 'display_data';\n",
              "          await google.colab.output.renderOutput(dataTable, element);\n",
              "          const docLink = document.createElement('div');\n",
              "          docLink.innerHTML = docLinkHtml;\n",
              "          element.appendChild(docLink);\n",
              "        }\n",
              "      </script>\n",
              "    </div>\n",
              "  </div>\n",
              "  "
            ]
          },
          "metadata": {},
          "execution_count": 12
        }
      ],
      "source": [
        "mc = confusion_matrix(y_test_categories, pred_lrDTSB12)\n",
        "\n",
        "# mostrar um DF\n",
        "df_mc = pd.DataFrame(mc, columns=['Predito 0', 'Predito 1'], index=['Real 0', 'Real 1'])\n",
        "\n",
        "df_mc"
      ]
    },
    {
      "cell_type": "markdown",
      "metadata": {
        "id": "N4Osw8zatkXy"
      },
      "source": [
        "Especificidade e Sensibilidade"
      ]
    },
    {
      "cell_type": "code",
      "execution_count": null,
      "metadata": {
        "colab": {
          "base_uri": "https://localhost:8080/"
        },
        "id": "sR_BHnK7tohs",
        "outputId": "eca80211-4080-4e8f-d74a-98fe4c2e574d"
      },
      "outputs": [
        {
          "output_type": "stream",
          "name": "stdout",
          "text": [
            "Sensibilidade SB34 0.9085275656658538\n",
            "Especificidade SB34 0.7265374093017724\n",
            "Sensibilidade SB24 0.9197617239035701\n",
            "Especificidade SB24 0.7101819911978113\n",
            "Sensibilidade SB12 0.9164234598009036\n",
            "Especificidade SB12 0.7000118948495302\n"
          ]
        }
      ],
      "source": [
        "from  sklearn.metrics import recall_score\n",
        "\n",
        "# sensibilidade = recall para a categoria 1\n",
        "sDTSB34 = recall_score(y_test_categories, pred_lrDTSB34, pos_label=1)\n",
        "\n",
        "# especificidade = recall para a categoria 0\n",
        "eDTSB34 = recall_score(y_test_categories, pred_lrDTSB34, pos_label=0)\n",
        "\n",
        "print(\"Sensibilidade SB34\", sDTSB34)\n",
        "print(\"Especificidade SB34\", eDTSB34)\n",
        "\n",
        "# sensibilidade = recall para a categoria 1\n",
        "sDTSB24 = recall_score(y_test_categories, pred_lrDTSB24, pos_label=1)\n",
        "\n",
        "# especificidade = recall para a categoria 0\n",
        "eDTSB24 = recall_score(y_test_categories, pred_lrDTSB24, pos_label=0)\n",
        "\n",
        "print(\"Sensibilidade SB24\", sDTSB24)\n",
        "print(\"Especificidade SB24\", eDTSB24)\n",
        "\n",
        "# sensibilidade = recall para a categoria 1\n",
        "sDTSB12 = recall_score(y_test_categories, pred_lrDTSB12, pos_label=1)\n",
        "\n",
        "# especificidade = recall para a categoria 0\n",
        "eDTSB12 = recall_score(y_test_categories, pred_lrDTSB12, pos_label=0)\n",
        "\n",
        "print(\"Sensibilidade SB12\", sDTSB12)\n",
        "print(\"Especificidade SB12\", eDTSB12)"
      ]
    },
    {
      "cell_type": "code",
      "execution_count": null,
      "metadata": {
        "colab": {
          "base_uri": "https://localhost:8080/",
          "height": 472
        },
        "id": "FhDM9i7NUVBm",
        "outputId": "479fd874-1003-46c5-a2fc-6fd4fd7c4b37"
      },
      "outputs": [
        {
          "output_type": "display_data",
          "data": {
            "text/plain": [
              "<Figure size 640x480 with 1 Axes>"
            ],
            "image/png": "[encoded data removed]"
          },
          "metadata": {}
        }
      ],
      "source": [
        "import matplotlib.pyplot as plt\n",
        "from sklearn.metrics import recall_score\n",
        "\n",
        "sensitivity = []\n",
        "specificity = []\n",
        "num_attributes = []\n",
        "\n",
        "# SB34\n",
        "sensitivity.append(sDTSB34)\n",
        "specificity.append(eDTSB34)\n",
        "num_attributes.append(len(X_trainsSB34.columns))\n",
        "\n",
        "# SB24\n",
        "sensitivity.append(sDTSB24)\n",
        "specificity.append(eDTSB24)\n",
        "num_attributes.append(len(X_trainsSB24.columns))\n",
        "\n",
        "# SB12\n",
        "sensitivity.append(sDTSB12)\n",
        "specificity.append(eDTSB12)\n",
        "num_attributes.append(len(X_trainsSB12.columns))\n",
        "\n",
        "plt.plot(num_attributes, sensitivity, marker='o', label='Sensibilidade')\n",
        "plt.plot(num_attributes, specificity, marker='o', label='Especificidade')\n",
        "plt.xlabel('Quantidade de atributos')\n",
        "plt.ylabel('Valor')\n",
        "plt.title('Sensibilidade e Especificidade em relação à quantidade de atributos')\n",
        "plt.legend()\n",
        "plt.show()"
      ]
    },
    {
      "cell_type": "markdown",
      "metadata": {
        "id": "rUrBT2DjtweU"
      },
      "source": [
        "Precisão e Revocação"
      ]
    },
    {
      "cell_type": "code",
      "execution_count": null,
      "metadata": {
        "colab": {
          "base_uri": "https://localhost:8080/"
        },
        "id": "2t-11QeEty0w",
        "outputId": "2da9843a-ec41-4efc-bf88-407a78fd2fe2"
      },
      "outputs": [
        {
          "output_type": "stream",
          "name": "stdout",
          "text": [
            "Precisão SB34:  [0.72748928 0.9081282 ]\n",
            "Revocação SB34:  [0.72653741 0.90852757]\n",
            "Precisão SB24:  [0.74841742 0.90423504]\n",
            "Revocação SB24:  [0.71018199 0.91976172]\n",
            "Precisão SB12:  [0.73788477 0.90088231]\n",
            "Revocação SB12:  [0.70001189 0.91642346]\n"
          ]
        }
      ],
      "source": [
        "from  sklearn.metrics import precision_recall_fscore_support\n",
        "prDTSB34 = precision_recall_fscore_support(y_test_categories, pred_lrDTSB34)\n",
        "\n",
        "print('Precisão SB34: ', prDTSB34[0])\n",
        "print('Revocação SB34: ', prDTSB34[1])\n",
        "\n",
        "prDTSB24 = precision_recall_fscore_support(y_test_categories, pred_lrDTSB24)\n",
        "\n",
        "print('Precisão SB24: ', prDTSB24[0])\n",
        "print('Revocação SB24: ', prDTSB24[1])\n",
        "\n",
        "prDTSB12 = precision_recall_fscore_support(y_test_categories, pred_lrDTSB12)\n",
        "\n",
        "print('Precisão SB12: ', prDTSB12[0])\n",
        "print('Revocação SB12: ', prDTSB12[1])"
      ]
    },
    {
      "cell_type": "code",
      "execution_count": null,
      "metadata": {
        "colab": {
          "base_uri": "https://localhost:8080/",
          "height": 472
        },
        "id": "0uByzDB9VVsv",
        "outputId": "e997e501-c3b3-44dc-8a77-f18f38dae7c8"
      },
      "outputs": [
        {
          "output_type": "display_data",
          "data": {
            "text/plain": [
              "<Figure size 640x480 with 1 Axes>"
            ],
            "image/png": "[encoded data removed]"
          },
          "metadata": {}
        }
      ],
      "source": [
        "import matplotlib.pyplot as plt\n",
        "from sklearn.metrics import precision_recall_fscore_support\n",
        "\n",
        "precision = []\n",
        "recall = []\n",
        "num_attributes = []\n",
        "\n",
        "# SB34\n",
        "precision.append(prDTSB34[0][1])\n",
        "recall.append(prDTSB34[1][1])\n",
        "num_attributes.append(len(X_trainsSB34.columns))\n",
        "\n",
        "# SB24\n",
        "precision.append(prDTSB24[0][1])\n",
        "recall.append(prDTSB24[1][1])\n",
        "num_attributes.append(len(X_trainsSB24.columns))\n",
        "\n",
        "# SB12\n",
        "precision.append(prDTSB12[0][1])\n",
        "recall.append(prDTSB12[1][1])\n",
        "num_attributes.append(len(X_trainsSB12.columns))\n",
        "\n",
        "plt.plot(num_attributes, precision, marker='o', label='Precisão')\n",
        "plt.plot(num_attributes, recall, marker='o', label='Revocação')\n",
        "plt.xlabel('Quantidade de atributos')\n",
        "plt.ylabel('Valor')\n",
        "plt.title('Precisão e Revocação em relação à quantidade de atributos')\n",
        "plt.legend()\n",
        "plt.show()"
      ]
    },
    {
      "cell_type": "markdown",
      "metadata": {
        "id": "zn7gwfgBt_T5"
      },
      "source": [
        "Resumo dos Testes com DecisionTree"
      ]
    },
    {
      "cell_type": "code",
      "execution_count": null,
      "metadata": {
        "id": "H9JOCoAkw3Zi"
      },
      "outputs": [],
      "source": [
        "from  sklearn.metrics import classification_report"
      ]
    },
    {
      "cell_type": "markdown",
      "metadata": {
        "id": "kwq2_UGTw0q5"
      },
      "source": [
        "34 colunas"
      ]
    },
    {
      "cell_type": "code",
      "execution_count": null,
      "metadata": {
        "colab": {
          "base_uri": "https://localhost:8080/"
        },
        "id": "TBssMWXBw2HX",
        "outputId": "eac70fb9-9689-41f7-bb7c-f25705f8e1cd"
      },
      "outputs": [
        {
          "output_type": "stream",
          "name": "stdout",
          "text": [
            "              precision    recall  f1-score   support\n",
            "\n",
            "           0       0.73      0.73      0.73     16814\n",
            "           1       0.91      0.91      0.91     50026\n",
            "\n",
            "    accuracy                           0.86     66840\n",
            "   macro avg       0.82      0.82      0.82     66840\n",
            "weighted avg       0.86      0.86      0.86     66840\n",
            "\n"
          ]
        }
      ],
      "source": [
        "cr = classification_report(y_test_categories, pred_lrDTSB34)\n",
        "\n",
        "print(cr)"
      ]
    },
    {
      "cell_type": "markdown",
      "metadata": {
        "id": "W1i5zw4Qw9wZ"
      },
      "source": [
        "24 colunas"
      ]
    },
    {
      "cell_type": "code",
      "execution_count": null,
      "metadata": {
        "colab": {
          "base_uri": "https://localhost:8080/"
        },
        "id": "_Ux_ICEExB23",
        "outputId": "e01a57df-a5b5-44ed-a43e-c94814244a09"
      },
      "outputs": [
        {
          "output_type": "stream",
          "name": "stdout",
          "text": [
            "              precision    recall  f1-score   support\n",
            "\n",
            "           0       0.75      0.71      0.73     16814\n",
            "           1       0.90      0.92      0.91     50026\n",
            "\n",
            "    accuracy                           0.87     66840\n",
            "   macro avg       0.83      0.81      0.82     66840\n",
            "weighted avg       0.87      0.87      0.87     66840\n",
            "\n"
          ]
        }
      ],
      "source": [
        "cr = classification_report(y_test_categories, pred_lrDTSB24)\n",
        "\n",
        "print(cr)"
      ]
    },
    {
      "cell_type": "markdown",
      "metadata": {
        "id": "HwBGzVJFxD_J"
      },
      "source": [
        "12 colunas"
      ]
    },
    {
      "cell_type": "code",
      "execution_count": null,
      "metadata": {
        "colab": {
          "base_uri": "https://localhost:8080/"
        },
        "id": "HGG2SjFJuBnF",
        "outputId": "2d3f7269-a53f-4f38-986e-a3b9a94dd421"
      },
      "outputs": [
        {
          "output_type": "stream",
          "name": "stdout",
          "text": [
            "              precision    recall  f1-score   support\n",
            "\n",
            "           0       0.74      0.70      0.72     16814\n",
            "           1       0.90      0.92      0.91     50026\n",
            "\n",
            "    accuracy                           0.86     66840\n",
            "   macro avg       0.82      0.81      0.81     66840\n",
            "weighted avg       0.86      0.86      0.86     66840\n",
            "\n"
          ]
        }
      ],
      "source": [
        "cr = classification_report(y_test_categories, pred_lrDTSB12)\n",
        "\n",
        "print(cr)"
      ]
    },
    {
      "cell_type": "markdown",
      "metadata": {
        "id": "xpnQdA1_uN--"
      },
      "source": [
        "Holdout Repetitivo DecisionTree"
      ]
    },
    {
      "cell_type": "code",
      "execution_count": null,
      "metadata": {
        "id": "4g-HsPXSxbfC"
      },
      "outputs": [],
      "source": [
        "from sklearn.model_selection import train_test_split\n",
        "import random\n",
        "from sklearn import tree"
      ]
    },
    {
      "cell_type": "markdown",
      "metadata": {
        "id": "xrfGnqvIxn1r"
      },
      "source": [
        "34 colunas"
      ]
    },
    {
      "cell_type": "code",
      "execution_count": null,
      "metadata": {
        "colab": {
          "base_uri": "https://localhost:8080/"
        },
        "id": "KNBhyjfMGGxc",
        "outputId": "5a864561-3472-45d0-f496-f9fc9f1b6d90"
      },
      "outputs": [
        {
          "output_type": "stream",
          "name": "stdout",
          "text": [
            "Média:  0.8578994614003589\n"
          ]
        }
      ],
      "source": [
        "#gerar 10 números aleatórios entre 1 e 1000\n",
        "list_random = random.sample(range(1, 1000), 10)\n",
        "\n",
        "dtree = tree.DecisionTreeClassifier(random_state=88)\n",
        "\n",
        "accs = []\n",
        "for r in list_random:\n",
        "  X_train, X_test, y_train, y_test = train_test_split(\n",
        "      X_trainsSB34,\n",
        "      y_train_categories,\n",
        "      test_size = 0.3,\n",
        "      stratify=y_train_categories,\n",
        "      random_state=r\n",
        "  )\n",
        "\n",
        "\n",
        "  dtree = dtree.fit(X_train, y_train)\n",
        "  y_predict = dtree.predict(X_test)\n",
        "  acuracia = accuracy_score(y_test, y_predict)\n",
        "  accs.append(acuracia)\n",
        "print('Média: ', sum(accs)/len(accs))"
      ]
    },
    {
      "cell_type": "markdown",
      "metadata": {
        "id": "SkV0wzhtxwY0"
      },
      "source": [
        "24 colunas"
      ]
    },
    {
      "cell_type": "code",
      "execution_count": null,
      "metadata": {
        "colab": {
          "base_uri": "https://localhost:8080/"
        },
        "id": "cH-dAAiExx2k",
        "outputId": "b4532210-3aae-44c6-8066-fab8d71c5237"
      },
      "outputs": [
        {
          "output_type": "stream",
          "name": "stdout",
          "text": [
            "Média:  0.8643904419936735\n"
          ]
        }
      ],
      "source": [
        "#gerar 10 números aleatórios entre 1 e 1000\n",
        "list_random = random.sample(range(1, 1000), 10)\n",
        "\n",
        "dtree = tree.DecisionTreeClassifier(random_state=88)\n",
        "\n",
        "accs = []\n",
        "for r in list_random:\n",
        "  X_train, X_test, y_train, y_test = train_test_split(\n",
        "      X_trainsSB24,\n",
        "      y_train_categories,\n",
        "      test_size = 0.3,\n",
        "      stratify=y_train_categories,\n",
        "      random_state=r\n",
        "  )\n",
        "\n",
        "\n",
        "  dtree = dtree.fit(X_train, y_train)\n",
        "  y_predict = dtree.predict(X_test)\n",
        "  acuracia = accuracy_score(y_test, y_predict)\n",
        "  accs.append(acuracia)\n",
        "print('Média: ', sum(accs)/len(accs))"
      ]
    },
    {
      "cell_type": "markdown",
      "metadata": {
        "id": "q7GCRtJRx3lq"
      },
      "source": [
        "12 colunas"
      ]
    },
    {
      "cell_type": "code",
      "execution_count": null,
      "metadata": {
        "colab": {
          "base_uri": "https://localhost:8080/"
        },
        "id": "dJqqHLkMx6oz",
        "outputId": "9411b1bd-31d0-498b-97e7-334d8fac7b94"
      },
      "outputs": [
        {
          "output_type": "stream",
          "name": "stdout",
          "text": [
            "Média:  0.8644673847995211\n"
          ]
        }
      ],
      "source": [
        "#gerar 10 números aleatórios entre 1 e 1000\n",
        "list_random = random.sample(range(1, 1000), 10)\n",
        "\n",
        "dtree = tree.DecisionTreeClassifier(random_state=88)\n",
        "\n",
        "accs = []\n",
        "for r in list_random:\n",
        "  X_train, X_test, y_train, y_test = train_test_split(\n",
        "      X_trainsSB24,\n",
        "      y_train_categories,\n",
        "      test_size = 0.3,\n",
        "      stratify=y_train_categories,\n",
        "      random_state=r\n",
        "  )\n",
        "\n",
        "\n",
        "  dtree = dtree.fit(X_train, y_train)\n",
        "  y_predict = dtree.predict(X_test)\n",
        "  acuracia = accuracy_score(y_test, y_predict)\n",
        "  accs.append(acuracia)\n",
        "print('Média: ', sum(accs)/len(accs))"
      ]
    },
    {
      "cell_type": "markdown",
      "metadata": {
        "id": "QKXORfPLuWvW"
      },
      "source": [
        "Cross-Validation DecisionTree"
      ]
    },
    {
      "cell_type": "code",
      "execution_count": null,
      "metadata": {
        "id": "u3cmqZ6PyBLO"
      },
      "outputs": [],
      "source": [
        "from sklearn.model_selection import cross_val_predict\n",
        "from sklearn.metrics import classification_report\n",
        "from sklearn import tree"
      ]
    },
    {
      "cell_type": "markdown",
      "metadata": {
        "id": "YZVpu2VwyEFs"
      },
      "source": [
        "34 colunas"
      ]
    },
    {
      "cell_type": "code",
      "execution_count": null,
      "metadata": {
        "colab": {
          "base_uri": "https://localhost:8080/"
        },
        "id": "rX46eMcUubzc",
        "outputId": "8c800728-2c8e-4e00-9c48-8312664ad5b4"
      },
      "outputs": [
        {
          "output_type": "stream",
          "name": "stdout",
          "text": [
            "              precision    recall  f1-score   support\n",
            "\n",
            "           0       0.72      0.73      0.72     39232\n",
            "           1       0.91      0.90      0.91    116725\n",
            "\n",
            "    accuracy                           0.86    155957\n",
            "   macro avg       0.81      0.82      0.81    155957\n",
            "weighted avg       0.86      0.86      0.86    155957\n",
            "\n"
          ]
        }
      ],
      "source": [
        "dtree = tree.DecisionTreeClassifier(random_state=88)\n",
        "\n",
        "# aplicar 10-fold cross validantios no modelo.\n",
        "# cv recebe a quantidade de folds\n",
        "y_predict = cross_val_predict(dtree, X_trainsSB34, y_train_categories, cv=10)\n",
        "\n",
        "report = classification_report(y_train_categories, y_predict)\n",
        "\n",
        "print(report)"
      ]
    },
    {
      "cell_type": "markdown",
      "metadata": {
        "id": "t9Py6BR1yNV7"
      },
      "source": [
        "24 colunas"
      ]
    },
    {
      "cell_type": "code",
      "execution_count": null,
      "metadata": {
        "colab": {
          "base_uri": "https://localhost:8080/"
        },
        "id": "JrcOisM1yObf",
        "outputId": "dbe32849-d5da-40cb-b494-03d4218ce6a8"
      },
      "outputs": [
        {
          "output_type": "stream",
          "name": "stdout",
          "text": [
            "              precision    recall  f1-score   support\n",
            "\n",
            "           0       0.75      0.70      0.72     39232\n",
            "           1       0.90      0.92      0.91    116725\n",
            "\n",
            "    accuracy                           0.87    155957\n",
            "   macro avg       0.82      0.81      0.82    155957\n",
            "weighted avg       0.86      0.87      0.86    155957\n",
            "\n"
          ]
        }
      ],
      "source": [
        "dtree = tree.DecisionTreeClassifier(random_state=88)\n",
        "\n",
        "# aplicar 10-fold cross validantios no modelo.\n",
        "# cv recebe a quantidade de folds\n",
        "y_predict = cross_val_predict(dtree, X_trainsSB24, y_train_categories, cv=10)\n",
        "\n",
        "report = classification_report(y_train_categories, y_predict)\n",
        "\n",
        "print(report)"
      ]
    },
    {
      "cell_type": "markdown",
      "metadata": {
        "id": "5sziIYnsyUNj"
      },
      "source": [
        "12 colunas"
      ]
    },
    {
      "cell_type": "code",
      "execution_count": null,
      "metadata": {
        "colab": {
          "base_uri": "https://localhost:8080/"
        },
        "id": "VnWa8GzQyV0m",
        "outputId": "9e5a8212-6ba3-49f6-d02a-72a8d3e25559"
      },
      "outputs": [
        {
          "output_type": "stream",
          "name": "stdout",
          "text": [
            "              precision    recall  f1-score   support\n",
            "\n",
            "           0       0.74      0.70      0.72     39232\n",
            "           1       0.90      0.92      0.91    116725\n",
            "\n",
            "    accuracy                           0.86    155957\n",
            "   macro avg       0.82      0.81      0.81    155957\n",
            "weighted avg       0.86      0.86      0.86    155957\n",
            "\n"
          ]
        }
      ],
      "source": [
        "dtree = tree.DecisionTreeClassifier(random_state=88)\n",
        "\n",
        "# aplicar 10-fold cross validantios no modelo.\n",
        "# cv recebe a quantidade de folds\n",
        "y_predict = cross_val_predict(dtree, X_trainsSB12, y_train_categories, cv=10)\n",
        "\n",
        "report = classification_report(y_train_categories, y_predict)\n",
        "\n",
        "print(report)"
      ]
    },
    {
      "cell_type": "markdown",
      "metadata": {
        "id": "MxCxC3LMufDk"
      },
      "source": [
        "Leave-one-Out DecisionTree"
      ]
    },
    {
      "cell_type": "code",
      "execution_count": null,
      "metadata": {
        "id": "aZSJX5CVydiy"
      },
      "outputs": [],
      "source": [
        "from sklearn.model_selection import cross_val_predict, LeaveOneOut\n",
        "from sklearn.metrics import classification_report\n",
        "from sklearn import tree\n"
      ]
    },
    {
      "cell_type": "markdown",
      "metadata": {
        "id": "cAvPWJgayn5l"
      },
      "source": [
        "34 colunas"
      ]
    },
    {
      "cell_type": "code",
      "execution_count": null,
      "metadata": {
        "id": "e2yxM1dnuh37"
      },
      "outputs": [],
      "source": [
        "dtree = tree.DecisionTreeClassifier(random_state=88)\n",
        "\n",
        "# aplicar 10-fold cross validantios no modelo.\n",
        "# cv recebe a quantidade de folds\n",
        "loo = LeaveOneOut()\n",
        "y_predict = cross_val_predict(dtree, X_trainsSB34, y_train_categories, cv=loo.split(X_testSB34))\n",
        "\n",
        "report = classification_report(y_train_categories, y_predict)\n",
        "\n",
        "print(report)"
      ]
    },
    {
      "cell_type": "markdown",
      "metadata": {
        "id": "z22iTntGy6R3"
      },
      "source": [
        "24 colunas"
      ]
    },
    {
      "cell_type": "code",
      "execution_count": null,
      "metadata": {
        "id": "tSDh0773y7PT"
      },
      "outputs": [],
      "source": [
        "dtree = tree.DecisionTreeClassifier(random_state=88)\n",
        "\n",
        "# aplicar 10-fold cross validantios no modelo.\n",
        "# cv recebe a quantidade de folds\n",
        "loo = LeaveOneOut()\n",
        "y_predict = cross_val_predict(dtree, X_testSB24, y_test_categories, cv=loo.split(X_testSB24))\n",
        "\n",
        "report = classification_report(y_test_categories, y_predict)\n",
        "\n",
        "print(report)"
      ]
    },
    {
      "cell_type": "markdown",
      "metadata": {
        "id": "nG7vM-s9y_1N"
      },
      "source": [
        "12 colunas"
      ]
    },
    {
      "cell_type": "code",
      "execution_count": null,
      "metadata": {
        "id": "v99Eaw_7zBGT"
      },
      "outputs": [],
      "source": [
        "dtree = tree.DecisionTreeClassifier(random_state=88)\n",
        "\n",
        "# aplicar 10-fold cross validantios no modelo.\n",
        "# cv recebe a quantidade de folds\n",
        "loo = LeaveOneOut()\n",
        "y_predict = cross_val_predict(dtree, X_testSB12, y_test_categories, cv=loo.split(X_testSB12))\n",
        "\n",
        "report = classification_report(y_test_categories, y_predict)\n",
        "\n",
        "print(report)"
      ]
    },
    {
      "cell_type": "markdown",
      "metadata": {
        "id": "E0sPDaIrzn9p"
      },
      "source": [
        "## **MLPClassifier**"
      ]
    },
    {
      "cell_type": "code",
      "execution_count": null,
      "metadata": {
        "id": "6plYwoQA0Ldw"
      },
      "outputs": [],
      "source": [
        "from sklearn.neural_network import MLPClassifier"
      ]
    },
    {
      "cell_type": "markdown",
      "metadata": {
        "id": "VCVpIrpZzn9r"
      },
      "source": [
        "Acurácia"
      ]
    },
    {
      "cell_type": "code",
      "execution_count": null,
      "metadata": {
        "id": "M_ECzlpW2fED"
      },
      "outputs": [],
      "source": [
        "from sklearn.metrics import accuracy_score"
      ]
    },
    {
      "cell_type": "code",
      "execution_count": null,
      "metadata": {
        "colab": {
          "base_uri": "https://localhost:8080/"
        },
        "id": "7iOdKH_Mzn9s",
        "outputId": "866d5c4a-0635-4b68-b7d6-de4571d9526b"
      },
      "outputs": [
        {
          "name": "stdout",
          "output_type": "stream",
          "text": [
            "Acurácia MLPClassifier sb34: 0.8884051466187911\n",
            "Acurácia MLPClassifier sb24: 0.8646918013165769\n",
            "Acurácia MLPClassifier sb12: 0.8608767205266308\n"
          ]
        }
      ],
      "source": [
        "model_lr = MLPClassifier()\n",
        "model_lr.fit(X_trainsSB34, y_train_categories)\n",
        "pred_lrMLPSB34 = model_lr.predict(X_testSB34)\n",
        "\n",
        "acc_lrMLPSB34 = accuracy_score(y_test_categories, pred_lrMLPSB34)\n",
        "\n",
        "print(\"Acurácia MLPClassifier sb34:\", acc_lrMLPSB34)\n",
        "\n",
        "model_lr = MLPClassifier()\n",
        "model_lr.fit(X_trainsSB24, y_train_categories)\n",
        "pred_lrMLPSB24 = model_lr.predict(X_testSB24)\n",
        "\n",
        "acc_lrMLPSB24 = accuracy_score(y_test_categories, pred_lrMLPSB24)\n",
        "\n",
        "print(\"Acurácia MLPClassifier sb24:\", acc_lrMLPSB24)\n",
        "\n",
        "model_lr = MLPClassifier()\n",
        "model_lr.fit(X_trainsSB12, y_train_categories)\n",
        "pred_lrMLPSB12 = model_lr.predict(X_testSB12)\n",
        "\n",
        "acc_lrMLPSB12 = accuracy_score(y_test_categories, pred_lrMLPSB12)\n",
        "\n",
        "print(\"Acurácia MLPClassifier sb12:\", acc_lrMLPSB12)"
      ]
    },
    {
      "cell_type": "code",
      "execution_count": null,
      "metadata": {
        "colab": {
          "base_uri": "https://localhost:8080/",
          "height": 472
        },
        "id": "C6dOnceLToe4",
        "outputId": "555076f5-0c45-4dd8-842e-09e7fb097187"
      },
      "outputs": [
        {
          "data": {
            "image/png": "[encoded data removed]",
            "text/plain": [
              "<Figure size 640x480 with 1 Axes>"
            ]
          },
          "metadata": {},
          "output_type": "display_data"
        }
      ],
      "source": [
        "import matplotlib.pyplot as plt\n",
        "from sklearn.metrics import accuracy_score\n",
        "\n",
        "\n",
        "metrics = []\n",
        "num_attributes = []\n",
        "\n",
        "metrics.append(acc_lrMLPSB34)\n",
        "num_attributes.append(len(X_trainsSB34.columns))\n",
        "\n",
        "metrics.append(acc_lrMLPSB24)\n",
        "num_attributes.append(len(X_trainsSB24.columns))\n",
        "\n",
        "metrics.append(acc_lrMLPSB12)\n",
        "num_attributes.append(len(X_trainsSB12.columns))\n",
        "\n",
        "plt.plot(num_attributes, metrics, marker='o')\n",
        "plt.xlabel('Quantidade de atributos')\n",
        "plt.ylabel('Acurácia')\n",
        "plt.title('Acurácia em relação à quantidade de atributos')\n",
        "plt.show()"
      ]
    },
    {
      "cell_type": "markdown",
      "metadata": {
        "id": "eysrGNd7zn9t"
      },
      "source": [
        "Matriz de Confusão"
      ]
    },
    {
      "cell_type": "code",
      "execution_count": null,
      "metadata": {
        "id": "9bgnBJPHzn9u"
      },
      "outputs": [],
      "source": [
        "from  sklearn.metrics import confusion_matrix"
      ]
    },
    {
      "cell_type": "markdown",
      "metadata": {
        "id": "LKJ_-MYnzn9v"
      },
      "source": [
        "34 colunas"
      ]
    },
    {
      "cell_type": "code",
      "execution_count": null,
      "metadata": {
        "colab": {
          "base_uri": "https://localhost:8080/",
          "height": 112
        },
        "id": "pjBAHwPhzn9w",
        "outputId": "8cc9da5b-508a-436a-e27a-d53517f594ff"
      },
      "outputs": [
        {
          "data": {
            "text/html": [
              "\n",
              "  <div id=\"df-1d5c4075-b2a2-4f32-9996-2050e2ed45a9\">\n",
              "    <div class=\"colab-df-container\">\n",
              "      <div>\n",
              "<style scoped>\n",
              "    .dataframe tbody tr th:only-of-type {\n",
              "        vertical-align: middle;\n",
              "    }\n",
              "\n",
              "    .dataframe tbody tr th {\n",
              "        vertical-align: top;\n",
              "    }\n",
              "\n",
              "    .dataframe thead th {\n",
              "        text-align: right;\n",
              "    }\n",
              "</style>\n",
              "<table border=\"1\" class=\"dataframe\">\n",
              "  <thead>\n",
              "    <tr style=\"text-align: right;\">\n",
              "      <th></th>\n",
              "      <th>Predito 0</th>\n",
              "      <th>Predito 1</th>\n",
              "    </tr>\n",
              "  </thead>\n",
              "  <tbody>\n",
              "    <tr>\n",
              "      <th>Real 0</th>\n",
              "      <td>13453</td>\n",
              "      <td>3361</td>\n",
              "    </tr>\n",
              "    <tr>\n",
              "      <th>Real 1</th>\n",
              "      <td>4098</td>\n",
              "      <td>45928</td>\n",
              "    </tr>\n",
              "  </tbody>\n",
              "</table>\n",
              "</div>\n",
              "      <button class=\"colab-df-convert\" onclick=\"convertToInteractive('df-1d5c4075-b2a2-4f32-9996-2050e2ed45a9')\"\n",
              "              title=\"Convert this dataframe to an interactive table.\"\n",
              "              style=\"display:none;\">\n",
              "        \n",
              "  <svg xmlns=\"http://www.w3.org/2000/svg\" height=\"24px\"viewBox=\"0 0 24 24\"\n",
              "       width=\"24px\">\n",
              "    <path d=\"M0 0h24v24H0V0z\" fill=\"none\"/>\n",
              "    <path d=\"M18.56 5.44l.94 2.06.94-2.06 2.06-.94-2.06-.94-.94-2.06-.94 2.06-2.06.94zm-11 1L8.5 8.5l.94-2.06 2.06-.94-2.06-.94L8.5 2.5l-.94 2.06-2.06.94zm10 10l.94 2.06.94-2.06 2.06-.94-2.06-.94-.94-2.06-.94 2.06-2.06.94z\"/><path d=\"M17.41 7.96l-1.37-1.37c-.4-.4-.92-.59-1.43-.59-.52 0-1.04.2-1.43.59L10.3 9.45l-7.72 7.72c-.78.78-.78 2.05 0 2.83L4 21.41c.39.39.9.59 1.41.59.51 0 1.02-.2 1.41-.59l7.78-7.78 2.81-2.81c.8-.78.8-2.07 0-2.86zM5.41 20L4 18.59l7.72-7.72 1.47 1.35L5.41 20z\"/>\n",
              "  </svg>\n",
              "      </button>\n",
              "      \n",
              "  <style>\n",
              "    .colab-df-container {\n",
              "      display:flex;\n",
              "      flex-wrap:wrap;\n",
              "      gap: 12px;\n",
              "    }\n",
              "\n",
              "    .colab-df-convert {\n",
              "      background-color: #E8F0FE;\n",
              "      border: none;\n",
              "      border-radius: 50%;\n",
              "      cursor: pointer;\n",
              "      display: none;\n",
              "      fill: #1967D2;\n",
              "      height: 32px;\n",
              "      padding: 0 0 0 0;\n",
              "      width: 32px;\n",
              "    }\n",
              "\n",
              "    .colab-df-convert:hover {\n",
              "      background-color: #E2EBFA;\n",
              "      box-shadow: 0px 1px 2px rgba(60, 64, 67, 0.3), 0px 1px 3px 1px rgba(60, 64, 67, 0.15);\n",
              "      fill: #174EA6;\n",
              "    }\n",
              "\n",
              "    [theme=dark] .colab-df-convert {\n",
              "      background-color: #3B4455;\n",
              "      fill: #D2E3FC;\n",
              "    }\n",
              "\n",
              "    [theme=dark] .colab-df-convert:hover {\n",
              "      background-color: #434B5C;\n",
              "      box-shadow: 0px 1px 3px 1px rgba(0, 0, 0, 0.15);\n",
              "      filter: drop-shadow(0px 1px 2px rgba(0, 0, 0, 0.3));\n",
              "      fill: #FFFFFF;\n",
              "    }\n",
              "  </style>\n",
              "\n",
              "      <script>\n",
              "        const buttonEl =\n",
              "          document.querySelector('#df-1d5c4075-b2a2-4f32-9996-2050e2ed45a9 button.colab-df-convert');\n",
              "        buttonEl.style.display =\n",
              "          google.colab.kernel.accessAllowed ? 'block' : 'none';\n",
              "\n",
              "        async function convertToInteractive(key) {\n",
              "          const element = document.querySelector('#df-1d5c4075-b2a2-4f32-9996-2050e2ed45a9');\n",
              "          const dataTable =\n",
              "            await google.colab.kernel.invokeFunction('convertToInteractive',\n",
              "                                                     [key], {});\n",
              "          if (!dataTable) return;\n",
              "\n",
              "          const docLinkHtml = 'Like what you see? Visit the ' +\n",
              "            '<a target=\"_blank\" href=https://colab.research.google.com/notebooks/data_table.ipynb>data table notebook</a>'\n",
              "            + ' to learn more about interactive tables.';\n",
              "          element.innerHTML = '';\n",
              "          dataTable['output_type'] = 'display_data';\n",
              "          await google.colab.output.renderOutput(dataTable, element);\n",
              "          const docLink = document.createElement('div');\n",
              "          docLink.innerHTML = docLinkHtml;\n",
              "          element.appendChild(docLink);\n",
              "        }\n",
              "      </script>\n",
              "    </div>\n",
              "  </div>\n",
              "  "
            ],
            "text/plain": [
              "        Predito 0  Predito 1\n",
              "Real 0      13453       3361\n",
              "Real 1       4098      45928"
            ]
          },
          "execution_count": 14,
          "metadata": {},
          "output_type": "execute_result"
        }
      ],
      "source": [
        "mc = confusion_matrix(y_test_categories, pred_lrMLPSB34)\n",
        "\n",
        "# mostrar um DF\n",
        "df_mc = pd.DataFrame(mc, columns=['Predito 0', 'Predito 1'], index=['Real 0', 'Real 1'])\n",
        "\n",
        "df_mc"
      ]
    },
    {
      "cell_type": "markdown",
      "metadata": {
        "id": "HvedkBJ1zn9x"
      },
      "source": [
        "24 colunas"
      ]
    },
    {
      "cell_type": "code",
      "execution_count": null,
      "metadata": {
        "colab": {
          "base_uri": "https://localhost:8080/",
          "height": 112
        },
        "id": "EFnOhpGgzn9x",
        "outputId": "150aa419-10fd-4631-fed2-e4b6dd9aa9cd"
      },
      "outputs": [
        {
          "data": {
            "text/html": [
              "\n",
              "  <div id=\"df-fa48de41-2ec1-4fca-8462-48656dd67f0a\">\n",
              "    <div class=\"colab-df-container\">\n",
              "      <div>\n",
              "<style scoped>\n",
              "    .dataframe tbody tr th:only-of-type {\n",
              "        vertical-align: middle;\n",
              "    }\n",
              "\n",
              "    .dataframe tbody tr th {\n",
              "        vertical-align: top;\n",
              "    }\n",
              "\n",
              "    .dataframe thead th {\n",
              "        text-align: right;\n",
              "    }\n",
              "</style>\n",
              "<table border=\"1\" class=\"dataframe\">\n",
              "  <thead>\n",
              "    <tr style=\"text-align: right;\">\n",
              "      <th></th>\n",
              "      <th>Predito 0</th>\n",
              "      <th>Predito 1</th>\n",
              "    </tr>\n",
              "  </thead>\n",
              "  <tbody>\n",
              "    <tr>\n",
              "      <th>Real 0</th>\n",
              "      <td>11370</td>\n",
              "      <td>5444</td>\n",
              "    </tr>\n",
              "    <tr>\n",
              "      <th>Real 1</th>\n",
              "      <td>3600</td>\n",
              "      <td>46426</td>\n",
              "    </tr>\n",
              "  </tbody>\n",
              "</table>\n",
              "</div>\n",
              "      <button class=\"colab-df-convert\" onclick=\"convertToInteractive('df-fa48de41-2ec1-4fca-8462-48656dd67f0a')\"\n",
              "              title=\"Convert this dataframe to an interactive table.\"\n",
              "              style=\"display:none;\">\n",
              "        \n",
              "  <svg xmlns=\"http://www.w3.org/2000/svg\" height=\"24px\"viewBox=\"0 0 24 24\"\n",
              "       width=\"24px\">\n",
              "    <path d=\"M0 0h24v24H0V0z\" fill=\"none\"/>\n",
              "    <path d=\"M18.56 5.44l.94 2.06.94-2.06 2.06-.94-2.06-.94-.94-2.06-.94 2.06-2.06.94zm-11 1L8.5 8.5l.94-2.06 2.06-.94-2.06-.94L8.5 2.5l-.94 2.06-2.06.94zm10 10l.94 2.06.94-2.06 2.06-.94-2.06-.94-.94-2.06-.94 2.06-2.06.94z\"/><path d=\"M17.41 7.96l-1.37-1.37c-.4-.4-.92-.59-1.43-.59-.52 0-1.04.2-1.43.59L10.3 9.45l-7.72 7.72c-.78.78-.78 2.05 0 2.83L4 21.41c.39.39.9.59 1.41.59.51 0 1.02-.2 1.41-.59l7.78-7.78 2.81-2.81c.8-.78.8-2.07 0-2.86zM5.41 20L4 18.59l7.72-7.72 1.47 1.35L5.41 20z\"/>\n",
              "  </svg>\n",
              "      </button>\n",
              "      \n",
              "  <style>\n",
              "    .colab-df-container {\n",
              "      display:flex;\n",
              "      flex-wrap:wrap;\n",
              "      gap: 12px;\n",
              "    }\n",
              "\n",
              "    .colab-df-convert {\n",
              "      background-color: #E8F0FE;\n",
              "      border: none;\n",
              "      border-radius: 50%;\n",
              "      cursor: pointer;\n",
              "      display: none;\n",
              "      fill: #1967D2;\n",
              "      height: 32px;\n",
              "      padding: 0 0 0 0;\n",
              "      width: 32px;\n",
              "    }\n",
              "\n",
              "    .colab-df-convert:hover {\n",
              "      background-color: #E2EBFA;\n",
              "      box-shadow: 0px 1px 2px rgba(60, 64, 67, 0.3), 0px 1px 3px 1px rgba(60, 64, 67, 0.15);\n",
              "      fill: #174EA6;\n",
              "    }\n",
              "\n",
              "    [theme=dark] .colab-df-convert {\n",
              "      background-color: #3B4455;\n",
              "      fill: #D2E3FC;\n",
              "    }\n",
              "\n",
              "    [theme=dark] .colab-df-convert:hover {\n",
              "      background-color: #434B5C;\n",
              "      box-shadow: 0px 1px 3px 1px rgba(0, 0, 0, 0.15);\n",
              "      filter: drop-shadow(0px 1px 2px rgba(0, 0, 0, 0.3));\n",
              "      fill: #FFFFFF;\n",
              "    }\n",
              "  </style>\n",
              "\n",
              "      <script>\n",
              "        const buttonEl =\n",
              "          document.querySelector('#df-fa48de41-2ec1-4fca-8462-48656dd67f0a button.colab-df-convert');\n",
              "        buttonEl.style.display =\n",
              "          google.colab.kernel.accessAllowed ? 'block' : 'none';\n",
              "\n",
              "        async function convertToInteractive(key) {\n",
              "          const element = document.querySelector('#df-fa48de41-2ec1-4fca-8462-48656dd67f0a');\n",
              "          const dataTable =\n",
              "            await google.colab.kernel.invokeFunction('convertToInteractive',\n",
              "                                                     [key], {});\n",
              "          if (!dataTable) return;\n",
              "\n",
              "          const docLinkHtml = 'Like what you see? Visit the ' +\n",
              "            '<a target=\"_blank\" href=https://colab.research.google.com/notebooks/data_table.ipynb>data table notebook</a>'\n",
              "            + ' to learn more about interactive tables.';\n",
              "          element.innerHTML = '';\n",
              "          dataTable['output_type'] = 'display_data';\n",
              "          await google.colab.output.renderOutput(dataTable, element);\n",
              "          const docLink = document.createElement('div');\n",
              "          docLink.innerHTML = docLinkHtml;\n",
              "          element.appendChild(docLink);\n",
              "        }\n",
              "      </script>\n",
              "    </div>\n",
              "  </div>\n",
              "  "
            ],
            "text/plain": [
              "        Predito 0  Predito 1\n",
              "Real 0      11370       5444\n",
              "Real 1       3600      46426"
            ]
          },
          "execution_count": 15,
          "metadata": {},
          "output_type": "execute_result"
        }
      ],
      "source": [
        "mc = confusion_matrix(y_test_categories, pred_lrMLPSB24)\n",
        "\n",
        "# mostrar um DF\n",
        "df_mc = pd.DataFrame(mc, columns=['Predito 0', 'Predito 1'], index=['Real 0', 'Real 1'])\n",
        "\n",
        "df_mc"
      ]
    },
    {
      "cell_type": "markdown",
      "metadata": {
        "id": "7B41W_Wszn9x"
      },
      "source": [
        "12 colunas"
      ]
    },
    {
      "cell_type": "code",
      "execution_count": null,
      "metadata": {
        "colab": {
          "base_uri": "https://localhost:8080/",
          "height": 112
        },
        "id": "oqahCbBjzn9y",
        "outputId": "f47bf088-b646-435d-9305-526c5f11b0fb"
      },
      "outputs": [
        {
          "data": {
            "text/html": [
              "\n",
              "  <div id=\"df-a046904d-7ad0-4297-87da-2193963c7f47\">\n",
              "    <div class=\"colab-df-container\">\n",
              "      <div>\n",
              "<style scoped>\n",
              "    .dataframe tbody tr th:only-of-type {\n",
              "        vertical-align: middle;\n",
              "    }\n",
              "\n",
              "    .dataframe tbody tr th {\n",
              "        vertical-align: top;\n",
              "    }\n",
              "\n",
              "    .dataframe thead th {\n",
              "        text-align: right;\n",
              "    }\n",
              "</style>\n",
              "<table border=\"1\" class=\"dataframe\">\n",
              "  <thead>\n",
              "    <tr style=\"text-align: right;\">\n",
              "      <th></th>\n",
              "      <th>Predito 0</th>\n",
              "      <th>Predito 1</th>\n",
              "    </tr>\n",
              "  </thead>\n",
              "  <tbody>\n",
              "    <tr>\n",
              "      <th>Real 0</th>\n",
              "      <td>11370</td>\n",
              "      <td>5444</td>\n",
              "    </tr>\n",
              "    <tr>\n",
              "      <th>Real 1</th>\n",
              "      <td>3600</td>\n",
              "      <td>46426</td>\n",
              "    </tr>\n",
              "  </tbody>\n",
              "</table>\n",
              "</div>\n",
              "      <button class=\"colab-df-convert\" onclick=\"convertToInteractive('df-a046904d-7ad0-4297-87da-2193963c7f47')\"\n",
              "              title=\"Convert this dataframe to an interactive table.\"\n",
              "              style=\"display:none;\">\n",
              "        \n",
              "  <svg xmlns=\"http://www.w3.org/2000/svg\" height=\"24px\"viewBox=\"0 0 24 24\"\n",
              "       width=\"24px\">\n",
              "    <path d=\"M0 0h24v24H0V0z\" fill=\"none\"/>\n",
              "    <path d=\"M18.56 5.44l.94 2.06.94-2.06 2.06-.94-2.06-.94-.94-2.06-.94 2.06-2.06.94zm-11 1L8.5 8.5l.94-2.06 2.06-.94-2.06-.94L8.5 2.5l-.94 2.06-2.06.94zm10 10l.94 2.06.94-2.06 2.06-.94-2.06-.94-.94-2.06-.94 2.06-2.06.94z\"/><path d=\"M17.41 7.96l-1.37-1.37c-.4-.4-.92-.59-1.43-.59-.52 0-1.04.2-1.43.59L10.3 9.45l-7.72 7.72c-.78.78-.78 2.05 0 2.83L4 21.41c.39.39.9.59 1.41.59.51 0 1.02-.2 1.41-.59l7.78-7.78 2.81-2.81c.8-.78.8-2.07 0-2.86zM5.41 20L4 18.59l7.72-7.72 1.47 1.35L5.41 20z\"/>\n",
              "  </svg>\n",
              "      </button>\n",
              "      \n",
              "  <style>\n",
              "    .colab-df-container {\n",
              "      display:flex;\n",
              "      flex-wrap:wrap;\n",
              "      gap: 12px;\n",
              "    }\n",
              "\n",
              "    .colab-df-convert {\n",
              "      background-color: #E8F0FE;\n",
              "      border: none;\n",
              "      border-radius: 50%;\n",
              "      cursor: pointer;\n",
              "      display: none;\n",
              "      fill: #1967D2;\n",
              "      height: 32px;\n",
              "      padding: 0 0 0 0;\n",
              "      width: 32px;\n",
              "    }\n",
              "\n",
              "    .colab-df-convert:hover {\n",
              "      background-color: #E2EBFA;\n",
              "      box-shadow: 0px 1px 2px rgba(60, 64, 67, 0.3), 0px 1px 3px 1px rgba(60, 64, 67, 0.15);\n",
              "      fill: #174EA6;\n",
              "    }\n",
              "\n",
              "    [theme=dark] .colab-df-convert {\n",
              "      background-color: #3B4455;\n",
              "      fill: #D2E3FC;\n",
              "    }\n",
              "\n",
              "    [theme=dark] .colab-df-convert:hover {\n",
              "      background-color: #434B5C;\n",
              "      box-shadow: 0px 1px 3px 1px rgba(0, 0, 0, 0.15);\n",
              "      filter: drop-shadow(0px 1px 2px rgba(0, 0, 0, 0.3));\n",
              "      fill: #FFFFFF;\n",
              "    }\n",
              "  </style>\n",
              "\n",
              "      <script>\n",
              "        const buttonEl =\n",
              "          document.querySelector('#df-a046904d-7ad0-4297-87da-2193963c7f47 button.colab-df-convert');\n",
              "        buttonEl.style.display =\n",
              "          google.colab.kernel.accessAllowed ? 'block' : 'none';\n",
              "\n",
              "        async function convertToInteractive(key) {\n",
              "          const element = document.querySelector('#df-a046904d-7ad0-4297-87da-2193963c7f47');\n",
              "          const dataTable =\n",
              "            await google.colab.kernel.invokeFunction('convertToInteractive',\n",
              "                                                     [key], {});\n",
              "          if (!dataTable) return;\n",
              "\n",
              "          const docLinkHtml = 'Like what you see? Visit the ' +\n",
              "            '<a target=\"_blank\" href=https://colab.research.google.com/notebooks/data_table.ipynb>data table notebook</a>'\n",
              "            + ' to learn more about interactive tables.';\n",
              "          element.innerHTML = '';\n",
              "          dataTable['output_type'] = 'display_data';\n",
              "          await google.colab.output.renderOutput(dataTable, element);\n",
              "          const docLink = document.createElement('div');\n",
              "          docLink.innerHTML = docLinkHtml;\n",
              "          element.appendChild(docLink);\n",
              "        }\n",
              "      </script>\n",
              "    </div>\n",
              "  </div>\n",
              "  "
            ],
            "text/plain": [
              "        Predito 0  Predito 1\n",
              "Real 0      11370       5444\n",
              "Real 1       3600      46426"
            ]
          },
          "execution_count": 16,
          "metadata": {},
          "output_type": "execute_result"
        }
      ],
      "source": [
        "mc = confusion_matrix(y_test_categories, pred_lrMLPSB24)\n",
        "\n",
        "# mostrar um DF\n",
        "df_mc = pd.DataFrame(mc, columns=['Predito 0', 'Predito 1'], index=['Real 0', 'Real 1'])\n",
        "\n",
        "df_mc"
      ]
    },
    {
      "cell_type": "markdown",
      "metadata": {
        "id": "GV7N3NZGzn9z"
      },
      "source": [
        "Especificidade e Sensibilidade"
      ]
    },
    {
      "cell_type": "code",
      "execution_count": null,
      "metadata": {
        "colab": {
          "base_uri": "https://localhost:8080/"
        },
        "id": "kq3RLqZrzn9z",
        "outputId": "d2204187-1211-43e2-ed1b-7333910074d6"
      },
      "outputs": [
        {
          "name": "stdout",
          "output_type": "stream",
          "text": [
            "Sensibilidade SB34 0.9180825970495342\n",
            "Especificidade SB34 0.8001070536457714\n",
            "Sensibilidade SB24 0.9280374205413185\n",
            "Especificidade SB24 0.6762221957892233\n",
            "Sensibilidade SB12 0.9138248110982289\n",
            "Especificidade SB12 0.7033424527179731\n"
          ]
        }
      ],
      "source": [
        "from  sklearn.metrics import recall_score\n",
        "\n",
        "# sensibilidade = recall para a categoria 1\n",
        "sMLPSB34 = recall_score(y_test_categories, pred_lrMLPSB34, pos_label=1)\n",
        "\n",
        "# especificidade = recall para a categoria 0\n",
        "eMLPSB34 = recall_score(y_test_categories, pred_lrMLPSB34, pos_label=0)\n",
        "\n",
        "print(\"Sensibilidade SB34\", sMLPSB34)\n",
        "print(\"Especificidade SB34\", eMLPSB34)\n",
        "\n",
        "# sensibilidade = recall para a categoria 1\n",
        "sMLPSB24 = recall_score(y_test_categories, pred_lrMLPSB24, pos_label=1)\n",
        "\n",
        "# especificidade = recall para a categoria 0\n",
        "eMLPSB24 = recall_score(y_test_categories, pred_lrMLPSB24, pos_label=0)\n",
        "\n",
        "print(\"Sensibilidade SB24\", sMLPSB24)\n",
        "print(\"Especificidade SB24\", eMLPSB24)\n",
        "\n",
        "# sensibilidade = recall para a categoria 1\n",
        "sMLPSB12 = recall_score(y_test_categories, pred_lrMLPSB12, pos_label=1)\n",
        "\n",
        "# especificidade = recall para a categoria 0\n",
        "eMLPSB12 = recall_score(y_test_categories, pred_lrMLPSB12, pos_label=0)\n",
        "\n",
        "print(\"Sensibilidade SB12\", sMLPSB12)\n",
        "print(\"Especificidade SB12\", eMLPSB12)"
      ]
    },
    {
      "cell_type": "code",
      "execution_count": null,
      "metadata": {
        "colab": {
          "base_uri": "https://localhost:8080/",
          "height": 472
        },
        "id": "Q96oZGbPVzLp",
        "outputId": "f6cea919-d632-4ce8-c02c-184cbe5523c0"
      },
      "outputs": [
        {
          "data": {
            "image/png": "[encoded data removed]",
            "text/plain": [
              "<Figure size 640x480 with 1 Axes>"
            ]
          },
          "metadata": {},
          "output_type": "display_data"
        }
      ],
      "source": [
        "import matplotlib.pyplot as plt\n",
        "from sklearn.metrics import recall_score\n",
        "\n",
        "sensitivity = []\n",
        "specificity = []\n",
        "num_attributes = []\n",
        "\n",
        "# SB34\n",
        "sensitivity.append(sMLPSB34)\n",
        "specificity.append(eMLPSB34)\n",
        "num_attributes.append(len(X_trainsSB34.columns))\n",
        "\n",
        "# SB24\n",
        "sensitivity.append(sMLPSB24)\n",
        "specificity.append(eMLPSB24)\n",
        "num_attributes.append(len(X_trainsSB24.columns))\n",
        "\n",
        "# SB12\n",
        "sensitivity.append(sMLPSB12)\n",
        "specificity.append(eMLPSB12)\n",
        "num_attributes.append(len(X_trainsSB12.columns))\n",
        "\n",
        "plt.plot(num_attributes, sensitivity, marker='o', label='Sensibilidade')\n",
        "plt.plot(num_attributes, specificity, marker='o', label='Especificidade')\n",
        "plt.xlabel('Quantidade de atributos')\n",
        "plt.ylabel('Valor')\n",
        "plt.title('Sensibilidade e Especificidade em relação à quantidade de atributos')\n",
        "plt.legend()\n",
        "plt.show()"
      ]
    },
    {
      "cell_type": "markdown",
      "metadata": {
        "id": "v9Plx2YOzn90"
      },
      "source": [
        "Precisão e Revocação"
      ]
    },
    {
      "cell_type": "code",
      "execution_count": null,
      "metadata": {
        "colab": {
          "base_uri": "https://localhost:8080/"
        },
        "id": "y49POqvDzn90",
        "outputId": "46aa54dd-2071-48b7-9793-f2a3fbc3ab6d"
      },
      "outputs": [
        {
          "name": "stdout",
          "output_type": "stream",
          "text": [
            "Precisão SB34:  [0.76650903 0.93181034]\n",
            "Revocação SB34:  [0.80010705 0.9180826 ]\n",
            "Precisão SB24:  [0.75951904 0.89504531]\n",
            "Revocação SB24:  [0.6762222  0.92803742]\n",
            "Precisão SB12:  [0.73284997 0.90162318]\n",
            "Revocação SB12:  [0.70334245 0.91382481]\n"
          ]
        }
      ],
      "source": [
        "from  sklearn.metrics import precision_recall_fscore_support\n",
        "prMLPSB34 = precision_recall_fscore_support(y_test_categories, pred_lrMLPSB34)\n",
        "\n",
        "print('Precisão SB34: ', prMLPSB34[0])\n",
        "print('Revocação SB34: ', prMLPSB34[1])\n",
        "\n",
        "prMLPSB24 = precision_recall_fscore_support(y_test_categories, pred_lrMLPSB24)\n",
        "\n",
        "print('Precisão SB24: ', prMLPSB24[0])\n",
        "print('Revocação SB24: ', prMLPSB24[1])\n",
        "\n",
        "prMLPSB12 = precision_recall_fscore_support(y_test_categories, pred_lrMLPSB12)\n",
        "\n",
        "print('Precisão SB12: ', prMLPSB12[0])\n",
        "print('Revocação SB12: ', prMLPSB12[1])"
      ]
    },
    {
      "cell_type": "code",
      "execution_count": null,
      "metadata": {
        "colab": {
          "base_uri": "https://localhost:8080/",
          "height": 472
        },
        "id": "mYscQd30WbLA",
        "outputId": "41ac670d-33e6-4791-8028-35227b823f6c"
      },
      "outputs": [
        {
          "data": {
            "image/png": "[encoded data removed]",
            "text/plain": [
              "<Figure size 640x480 with 1 Axes>"
            ]
          },
          "metadata": {},
          "output_type": "display_data"
        }
      ],
      "source": [
        "import matplotlib.pyplot as plt\n",
        "from sklearn.metrics import precision_recall_fscore_support\n",
        "\n",
        "precision = []\n",
        "recall = []\n",
        "num_attributes = []\n",
        "\n",
        "# SB34\n",
        "precision.append(prMLPSB34[0][1])\n",
        "recall.append(prMLPSB34[1][1])\n",
        "num_attributes.append(len(X_trainsSB34.columns))\n",
        "\n",
        "# SB24\n",
        "precision.append(prMLPSB24[0][1])\n",
        "recall.append(prMLPSB24[1][1])\n",
        "num_attributes.append(len(X_trainsSB24.columns))\n",
        "\n",
        "# SB12\n",
        "precision.append(prMLPSB12[0][1])\n",
        "recall.append(prMLPSB12[1][1])\n",
        "num_attributes.append(len(X_trainsSB12.columns))\n",
        "\n",
        "plt.plot(num_attributes, precision, marker='o', label='Precisão')\n",
        "plt.plot(num_attributes, recall, marker='o', label='Revocação')\n",
        "plt.xlabel('Quantidade de atributos')\n",
        "plt.ylabel('Valor')\n",
        "plt.title('Precisão e Revocação em relação à quantidade de atributos')\n",
        "plt.legend()\n",
        "plt.show()"
      ]
    },
    {
      "cell_type": "markdown",
      "metadata": {
        "id": "MKvNw_gezn91"
      },
      "source": [
        "Resumo dos Testes com MLPClassifier\n"
      ]
    },
    {
      "cell_type": "code",
      "execution_count": null,
      "metadata": {
        "id": "s_8EWo_7zn91"
      },
      "outputs": [],
      "source": [
        "from  sklearn.metrics import classification_report"
      ]
    },
    {
      "cell_type": "markdown",
      "metadata": {
        "id": "TlHmmkKrzn91"
      },
      "source": [
        "34 colunas"
      ]
    },
    {
      "cell_type": "code",
      "execution_count": null,
      "metadata": {
        "colab": {
          "base_uri": "https://localhost:8080/"
        },
        "id": "IM_MWyvHzn92",
        "outputId": "152304af-52ee-4f0e-c60c-4363f417271c"
      },
      "outputs": [
        {
          "name": "stdout",
          "output_type": "stream",
          "text": [
            "              precision    recall  f1-score   support\n",
            "\n",
            "           0       0.77      0.80      0.78     16814\n",
            "           1       0.93      0.92      0.92     50026\n",
            "\n",
            "    accuracy                           0.89     66840\n",
            "   macro avg       0.85      0.86      0.85     66840\n",
            "weighted avg       0.89      0.89      0.89     66840\n",
            "\n"
          ]
        }
      ],
      "source": [
        "cr = classification_report(y_test_categories, pred_lrMLPSB34)\n",
        "\n",
        "print(cr)"
      ]
    },
    {
      "cell_type": "markdown",
      "metadata": {
        "id": "SpVxlwcyzn92"
      },
      "source": [
        "24 colunas"
      ]
    },
    {
      "cell_type": "code",
      "execution_count": null,
      "metadata": {
        "colab": {
          "base_uri": "https://localhost:8080/"
        },
        "id": "UGuEIfauzn92",
        "outputId": "1fbb60ee-a55f-4d7d-bc19-9fcf786e2c71"
      },
      "outputs": [
        {
          "name": "stdout",
          "output_type": "stream",
          "text": [
            "              precision    recall  f1-score   support\n",
            "\n",
            "           0       0.76      0.68      0.72     16814\n",
            "           1       0.90      0.93      0.91     50026\n",
            "\n",
            "    accuracy                           0.86     66840\n",
            "   macro avg       0.83      0.80      0.81     66840\n",
            "weighted avg       0.86      0.86      0.86     66840\n",
            "\n"
          ]
        }
      ],
      "source": [
        "cr = classification_report(y_test_categories, pred_lrMLPSB24)\n",
        "\n",
        "print(cr)"
      ]
    },
    {
      "cell_type": "markdown",
      "metadata": {
        "id": "TfmiSjOXzn93"
      },
      "source": [
        "12 colunas"
      ]
    },
    {
      "cell_type": "code",
      "execution_count": null,
      "metadata": {
        "colab": {
          "base_uri": "https://localhost:8080/"
        },
        "id": "rIFYUJQ8zn93",
        "outputId": "cf16e522-9fe8-453d-e696-7f7152ac6d6d"
      },
      "outputs": [
        {
          "name": "stdout",
          "output_type": "stream",
          "text": [
            "              precision    recall  f1-score   support\n",
            "\n",
            "           0       0.73      0.70      0.72     16814\n",
            "           1       0.90      0.91      0.91     50026\n",
            "\n",
            "    accuracy                           0.86     66840\n",
            "   macro avg       0.82      0.81      0.81     66840\n",
            "weighted avg       0.86      0.86      0.86     66840\n",
            "\n"
          ]
        }
      ],
      "source": [
        "cr = classification_report(y_test_categories, pred_lrMLPSB12)\n",
        "\n",
        "print(cr)"
      ]
    },
    {
      "cell_type": "markdown",
      "metadata": {
        "id": "uf1mcNEMzn93"
      },
      "source": [
        "Holdout Repetitivo MLPClassifier"
      ]
    },
    {
      "cell_type": "code",
      "execution_count": null,
      "metadata": {
        "id": "xhnrXYAZzn94"
      },
      "outputs": [],
      "source": [
        "from sklearn.neural_network import MLPClassifier\n",
        "from sklearn.model_selection import train_test_split\n",
        "from sklearn.metrics import accuracy_score\n",
        "import random"
      ]
    },
    {
      "cell_type": "markdown",
      "metadata": {
        "id": "Wn8dzJ_lzn94"
      },
      "source": [
        "34 colunas"
      ]
    },
    {
      "cell_type": "code",
      "execution_count": null,
      "metadata": {
        "colab": {
          "base_uri": "https://localhost:8080/"
        },
        "id": "wOUzJlbFzn94",
        "outputId": "d44dc4cb-6130-4804-a5f4-3d0fe06487d9"
      },
      "outputs": [
        {
          "name": "stdout",
          "output_type": "stream",
          "text": [
            "Média:  0.884934171154997\n"
          ]
        }
      ],
      "source": [
        "#gerar 10 números aleatórios entre 1 e 1000\n",
        "list_random = random.sample(range(1, 1000), 10)\n",
        "\n",
        "mlp = MLPClassifier(random_state=88)\n",
        "\n",
        "accs = []\n",
        "for r in list_random:\n",
        "  X_train, X_test, y_train, y_test = train_test_split(\n",
        "      X_trainsSB34,\n",
        "      y_train_categories,\n",
        "      test_size = 0.3,\n",
        "      stratify=y_train_categories,\n",
        "      random_state=r\n",
        "  )\n",
        "\n",
        "\n",
        "  mlp = mlp.fit(X_train, y_train)\n",
        "  y_predict = mlp.predict(X_test)\n",
        "  acuracia = accuracy_score(y_test, y_predict)\n",
        "  accs.append(acuracia)\n",
        "print('Média: ', sum(accs)/len(accs))"
      ]
    },
    {
      "cell_type": "markdown",
      "metadata": {
        "id": "U1NPBmLHzn95"
      },
      "source": [
        "24 colunas"
      ]
    },
    {
      "cell_type": "code",
      "execution_count": null,
      "metadata": {
        "colab": {
          "base_uri": "https://localhost:8080/"
        },
        "id": "gGKYMtYEzn95",
        "outputId": "ec1a6708-7c95-4cdd-e898-bee764307a0b"
      },
      "outputs": [
        {
          "name": "stderr",
          "output_type": "stream",
          "text": [
            "/usr/local/lib/python3.10/dist-packages/sklearn/neural_network/_multilayer_perceptron.py:693: UserWarning: Training interrupted by user.\n",
            "  warnings.warn(\"Training interrupted by user.\")\n",
            "/usr/local/lib/python3.10/dist-packages/sklearn/neural_network/_multilayer_perceptron.py:693: UserWarning: Training interrupted by user.\n",
            "  warnings.warn(\"Training interrupted by user.\")\n"
          ]
        },
        {
          "name": "stdout",
          "output_type": "stream",
          "text": [
            "Média:  0.8523788150807899\n"
          ]
        }
      ],
      "source": [
        "#gerar 10 números aleatórios entre 1 e 1000\n",
        "list_random = random.sample(range(1, 1000), 10)\n",
        "\n",
        "mlp = MLPClassifier(random_state=88)\n",
        "\n",
        "accs = []\n",
        "for r in list_random:\n",
        "  X_train, X_test, y_train, y_test = train_test_split(\n",
        "      X_trainsSB24,\n",
        "      y_train_categories,\n",
        "      test_size = 0.3,\n",
        "      stratify=y_train_categories,\n",
        "      random_state=r\n",
        "  )\n",
        "\n",
        "\n",
        "  mlp = mlp.fit(X_train, y_train)\n",
        "  y_predict = mlp.predict(X_test)\n",
        "  acuracia = accuracy_score(y_test, y_predict)\n",
        "  accs.append(acuracia)\n",
        "print('Média: ', sum(accs)/len(accs))"
      ]
    },
    {
      "cell_type": "markdown",
      "metadata": {
        "id": "IrsCI06Mzn95"
      },
      "source": [
        "12 colunas"
      ]
    },
    {
      "cell_type": "code",
      "execution_count": null,
      "metadata": {
        "colab": {
          "base_uri": "https://localhost:8080/"
        },
        "id": "tvc2kpB0zn96",
        "outputId": "e0b46fe5-ea13-4465-f5d1-809ffb66f558"
      },
      "outputs": [
        {
          "name": "stdout",
          "output_type": "stream",
          "text": [
            "Média:  0.8609415519648913\n"
          ]
        }
      ],
      "source": [
        "#gerar 10 números aleatórios entre 1 e 1000\n",
        "list_random = random.sample(range(1, 1000), 10)\n",
        "\n",
        "mlp = MLPClassifier(random_state=88)\n",
        "\n",
        "accs = []\n",
        "for r in list_random:\n",
        "  X_train, X_test, y_train, y_test = train_test_split(\n",
        "      X_trainsSB12,\n",
        "      y_train_categories,\n",
        "      test_size = 0.3,\n",
        "      stratify=y_train_categories,\n",
        "      random_state=r\n",
        "  )\n",
        "\n",
        "\n",
        "  mlp = mlp.fit(X_train, y_train)\n",
        "  y_predict = mlp.predict(X_test)\n",
        "  acuracia = accuracy_score(y_test, y_predict)\n",
        "  accs.append(acuracia)\n",
        "print('Média: ', sum(accs)/len(accs))"
      ]
    },
    {
      "cell_type": "markdown",
      "metadata": {
        "id": "HByHBzjCzn96"
      },
      "source": [
        "Cross-Validation MLPClassifier"
      ]
    },
    {
      "cell_type": "code",
      "execution_count": null,
      "metadata": {
        "id": "Oj-ZgArkzn97"
      },
      "outputs": [],
      "source": [
        "from sklearn.model_selection import cross_val_predict\n",
        "from sklearn.metrics import classification_report"
      ]
    },
    {
      "cell_type": "markdown",
      "metadata": {
        "id": "CIddKIf5zn97"
      },
      "source": [
        "34 colunas"
      ]
    },
    {
      "cell_type": "code",
      "execution_count": null,
      "metadata": {
        "colab": {
          "base_uri": "https://localhost:8080/"
        },
        "id": "9sEZsWWezn97",
        "outputId": "56e622a4-2fde-4270-e59d-d34181ce7101"
      },
      "outputs": [
        {
          "name": "stderr",
          "output_type": "stream",
          "text": [
            "/usr/local/lib/python3.10/dist-packages/sklearn/neural_network/_multilayer_perceptron.py:686: ConvergenceWarning: Stochastic Optimizer: Maximum iterations (200) reached and the optimization hasn't converged yet.\n",
            "  warnings.warn(\n",
            "/usr/local/lib/python3.10/dist-packages/sklearn/neural_network/_multilayer_perceptron.py:686: ConvergenceWarning: Stochastic Optimizer: Maximum iterations (200) reached and the optimization hasn't converged yet.\n",
            "  warnings.warn(\n"
          ]
        },
        {
          "name": "stdout",
          "output_type": "stream",
          "text": [
            "              precision    recall  f1-score   support\n",
            "\n",
            "           0       0.78      0.76      0.77     16814\n",
            "           1       0.92      0.93      0.92     50026\n",
            "\n",
            "    accuracy                           0.89     66840\n",
            "   macro avg       0.85      0.84      0.85     66840\n",
            "weighted avg       0.89      0.89      0.89     66840\n",
            "\n"
          ]
        }
      ],
      "source": [
        "mlp = MLPClassifier(random_state=88)\n",
        "\n",
        "# aplicar 10-fold cross validantios no modelo.\n",
        "# cv recebe a quantidade de folds\n",
        "y_predict = cross_val_predict(mlp, X_trainsSB34, y_train_categories, cv=10)\n",
        "\n",
        "report = classification_report(y_train_categories, y_predict)\n",
        "\n",
        "print(report)"
      ]
    },
    {
      "cell_type": "markdown",
      "metadata": {
        "id": "NaFVl5bzzn98"
      },
      "source": [
        "24 colunas"
      ]
    },
    {
      "cell_type": "code",
      "execution_count": null,
      "metadata": {
        "colab": {
          "base_uri": "https://localhost:8080/"
        },
        "id": "xEGQJRMEzn98",
        "outputId": "ff0cd091-d730-46bb-e7d1-0df3d8f058a4"
      },
      "outputs": [
        {
          "name": "stdout",
          "output_type": "stream",
          "text": [
            "              precision    recall  f1-score   support\n",
            "\n",
            "           0       0.75      0.70      0.72     16814\n",
            "           1       0.90      0.92      0.91     50026\n",
            "\n",
            "    accuracy                           0.86     66840\n",
            "   macro avg       0.82      0.81      0.82     66840\n",
            "weighted avg       0.86      0.86      0.86     66840\n",
            "\n"
          ]
        }
      ],
      "source": [
        "mlp = MLPClassifier(random_state=88)\n",
        "\n",
        "# aplicar 10-fold cross validantios no modelo.\n",
        "# cv recebe a quantidade de folds\n",
        "y_predict = cross_val_predict(mlp, X_trainsSB24, y_train_categories, cv=10)\n",
        "\n",
        "report = classification_report(y_train_categories, y_predict)\n",
        "\n",
        "print(report)"
      ]
    },
    {
      "cell_type": "markdown",
      "metadata": {
        "id": "anjqtzoSzn98"
      },
      "source": [
        "12 colunas"
      ]
    },
    {
      "cell_type": "code",
      "execution_count": null,
      "metadata": {
        "colab": {
          "base_uri": "https://localhost:8080/"
        },
        "id": "3rtFz7HFzn98",
        "outputId": "1d9cb9fa-8c48-49f5-fe33-7ec36380fc2a"
      },
      "outputs": [
        {
          "name": "stdout",
          "output_type": "stream",
          "text": [
            "              precision    recall  f1-score   support\n",
            "\n",
            "           0       0.75      0.68      0.71     16814\n",
            "           1       0.90      0.92      0.91     50026\n",
            "\n",
            "    accuracy                           0.86     66840\n",
            "   macro avg       0.82      0.80      0.81     66840\n",
            "weighted avg       0.86      0.86      0.86     66840\n",
            "\n"
          ]
        }
      ],
      "source": [
        "mlp = MLPClassifier(random_state=88)\n",
        "\n",
        "# aplicar 10-fold cross validantios no modelo.\n",
        "# cv recebe a quantidade de folds\n",
        "y_predict = cross_val_predict(mlp, X_trainsSB12, y_train_categories, cv=10)\n",
        "\n",
        "report = classification_report(y_train_categories, y_predict)\n",
        "\n",
        "print(report)"
      ]
    },
    {
      "cell_type": "markdown",
      "metadata": {
        "id": "nEdBmZOKzn99"
      },
      "source": [
        "Leave-one-Out MLPClassifier"
      ]
    },
    {
      "cell_type": "code",
      "execution_count": null,
      "metadata": {
        "id": "i8dEXj8uzn99"
      },
      "outputs": [],
      "source": [
        "from sklearn.model_selection import cross_val_predict, LeaveOneOut\n",
        "from sklearn.metrics import classification_report\n",
        "from sklearn import tree\n"
      ]
    },
    {
      "cell_type": "markdown",
      "metadata": {
        "id": "STivtzlzzn9-"
      },
      "source": [
        "34 colunas"
      ]
    },
    {
      "cell_type": "code",
      "execution_count": null,
      "metadata": {
        "id": "hPR29jmvzn9-"
      },
      "outputs": [],
      "source": [
        "mlp = MLPClassifier(random_state=88)\n",
        "\n",
        "# aplicar 10-fold cross validantios no modelo.\n",
        "# cv recebe a quantidade de folds\n",
        "loo = LeaveOneOut()\n",
        "y_predict = cross_val_predict(mlp, X_trainsSB34, y_train_categories, cv=loo.split(X_trainsSB34))\n",
        "\n",
        "report = classification_report(y_train_categories, y_predict)\n",
        "\n",
        "print(report)"
      ]
    },
    {
      "cell_type": "markdown",
      "metadata": {
        "id": "8bcPj7Hozn9-"
      },
      "source": [
        "24 colunas"
      ]
    },
    {
      "cell_type": "code",
      "execution_count": null,
      "metadata": {
        "id": "zP2ag28zzn9-"
      },
      "outputs": [],
      "source": [
        "mlp = MLPClassifier(random_state=88)\n",
        "\n",
        "# aplicar 10-fold cross validantios no modelo.\n",
        "# cv recebe a quantidade de folds\n",
        "loo = LeaveOneOut()\n",
        "y_predict = cross_val_predict(mlp, X_trainsSB24, y_train_categories, cv=loo.split(X_trainsSB24))\n",
        "\n",
        "report = classification_report(y_train_categories, y_predict)\n",
        "\n",
        "print(report)"
      ]
    },
    {
      "cell_type": "markdown",
      "metadata": {
        "id": "2U7IqYMZzn9-"
      },
      "source": [
        "12 colunas"
      ]
    },
    {
      "cell_type": "code",
      "execution_count": null,
      "metadata": {
        "id": "SVSrOZ69zn9-"
      },
      "outputs": [],
      "source": [
        "mlp = MLPClassifier(random_state=88)\n",
        "\n",
        "# aplicar 10-fold cross validantios no modelo.\n",
        "# cv recebe a quantidade de folds\n",
        "loo = LeaveOneOut()\n",
        "y_predict = cross_val_predict(mlp, X_trainsSB12, y_train_categories, cv=loo.split(X_trainSB12))\n",
        "\n",
        "report = classification_report(y_train_categories, y_predict)\n",
        "\n",
        "print(report)"
      ]
    },
    {
      "cell_type": "markdown",
      "metadata": {
        "id": "cDln15ZpQDnL"
      },
      "source": [
        "## **GaussianNB**"
      ]
    },
    {
      "cell_type": "code",
      "execution_count": null,
      "metadata": {
        "id": "tzw30p2jQDnO"
      },
      "outputs": [],
      "source": [
        "from sklearn.naive_bayes import GaussianNB"
      ]
    },
    {
      "cell_type": "markdown",
      "metadata": {
        "id": "6w7uMy4UQDnO"
      },
      "source": [
        "Acurácia"
      ]
    },
    {
      "cell_type": "code",
      "execution_count": null,
      "metadata": {
        "id": "nKt6BiKzQDnO"
      },
      "outputs": [],
      "source": [
        "from sklearn.metrics import accuracy_score"
      ]
    },
    {
      "cell_type": "code",
      "execution_count": null,
      "metadata": {
        "colab": {
          "base_uri": "https://localhost:8080/"
        },
        "id": "vYHJr6f7QDnQ",
        "outputId": "40bcd04b-1de3-4bee-a1e0-5da6ee9532de"
      },
      "outputs": [
        {
          "name": "stdout",
          "output_type": "stream",
          "text": [
            "Acurácia GaussianNB sb34: 0.7301765409934171\n",
            "Acurácia GaussianNB sb24: 0.7466187911430281\n",
            "Acurácia GaussianNB sb12: 0.8096349491322561\n"
          ]
        }
      ],
      "source": [
        "model_lr = GaussianNB()\n",
        "model_lr.fit(X_trainsSB34, y_train_categories)\n",
        "pred_lrGNBSB34 = model_lr.predict(X_testSB34)\n",
        "\n",
        "acc_lrGNBSB34 = accuracy_score(y_test_categories, pred_lrGNBSB34)\n",
        "\n",
        "print(\"Acurácia GaussianNB sb34:\", acc_lrGNBSB34)\n",
        "\n",
        "model_lr = GaussianNB()\n",
        "model_lr.fit(X_trainsSB24, y_train_categories)\n",
        "pred_lrGNBSB24 = model_lr.predict(X_testSB24)\n",
        "\n",
        "acc_lrGNBSB24 = accuracy_score(y_test_categories, pred_lrGNBSB24)\n",
        "\n",
        "print(\"Acurácia GaussianNB sb24:\", acc_lrGNBSB24)\n",
        "\n",
        "model_lr = GaussianNB()\n",
        "model_lr.fit(X_trainsSB12, y_train_categories)\n",
        "pred_lrGNBSB12 = model_lr.predict(X_testSB12)\n",
        "\n",
        "acc_lrGNBSB12 = accuracy_score(y_test_categories, pred_lrGNBSB12)\n",
        "\n",
        "print(\"Acurácia GaussianNB sb12:\", acc_lrGNBSB12)"
      ]
    },
    {
      "cell_type": "code",
      "execution_count": null,
      "metadata": {
        "colab": {
          "base_uri": "https://localhost:8080/",
          "height": 472
        },
        "id": "AcSJoil1T2hk",
        "outputId": "bc10437d-bdf0-40f7-8a53-ab95d6ec3b20"
      },
      "outputs": [
        {
          "data": {
            "image/png": "[encoded data removed]",
            "text/plain": [
              "<Figure size 640x480 with 1 Axes>"
            ]
          },
          "metadata": {},
          "output_type": "display_data"
        }
      ],
      "source": [
        "import matplotlib.pyplot as plt\n",
        "from sklearn.metrics import accuracy_score\n",
        "\n",
        "\n",
        "metrics = []\n",
        "num_attributes = []\n",
        "\n",
        "metrics.append(acc_lrGNBSB34)\n",
        "num_attributes.append(len(X_trainsSB34.columns))\n",
        "\n",
        "metrics.append(acc_lrGNBSB24)\n",
        "num_attributes.append(len(X_trainsSB24.columns))\n",
        "\n",
        "metrics.append(acc_lrGNBSB12)\n",
        "num_attributes.append(len(X_trainsSB12.columns))\n",
        "\n",
        "plt.plot(num_attributes, metrics, marker='o')\n",
        "plt.xlabel('Quantidade de atributos')\n",
        "plt.ylabel('Acurácia')\n",
        "plt.title('Acurácia em relação à quantidade de atributos')\n",
        "plt.show()"
      ]
    },
    {
      "cell_type": "markdown",
      "metadata": {
        "id": "b5ALZ3VMQDnQ"
      },
      "source": [
        "Matriz de Confusão"
      ]
    },
    {
      "cell_type": "code",
      "execution_count": null,
      "metadata": {
        "id": "9W3U7JLiQDnR"
      },
      "outputs": [],
      "source": [
        "from  sklearn.metrics import confusion_matrix"
      ]
    },
    {
      "cell_type": "markdown",
      "metadata": {
        "id": "IIu1Jnc_QDnS"
      },
      "source": [
        "34 colunas"
      ]
    },
    {
      "cell_type": "code",
      "execution_count": null,
      "metadata": {
        "colab": {
          "base_uri": "https://localhost:8080/",
          "height": 112
        },
        "id": "Qlt6eirMQDnS",
        "outputId": "0410530c-0691-437b-d5be-fad7cfb02f91"
      },
      "outputs": [
        {
          "data": {
            "text/html": [
              "\n",
              "  <div id=\"df-390323a1-d09c-4c75-a0b1-068da1ec2db0\">\n",
              "    <div class=\"colab-df-container\">\n",
              "      <div>\n",
              "<style scoped>\n",
              "    .dataframe tbody tr th:only-of-type {\n",
              "        vertical-align: middle;\n",
              "    }\n",
              "\n",
              "    .dataframe tbody tr th {\n",
              "        vertical-align: top;\n",
              "    }\n",
              "\n",
              "    .dataframe thead th {\n",
              "        text-align: right;\n",
              "    }\n",
              "</style>\n",
              "<table border=\"1\" class=\"dataframe\">\n",
              "  <thead>\n",
              "    <tr style=\"text-align: right;\">\n",
              "      <th></th>\n",
              "      <th>Predito 0</th>\n",
              "      <th>Predito 1</th>\n",
              "    </tr>\n",
              "  </thead>\n",
              "  <tbody>\n",
              "    <tr>\n",
              "      <th>Real 0</th>\n",
              "      <td>14287</td>\n",
              "      <td>2527</td>\n",
              "    </tr>\n",
              "    <tr>\n",
              "      <th>Real 1</th>\n",
              "      <td>15508</td>\n",
              "      <td>34518</td>\n",
              "    </tr>\n",
              "  </tbody>\n",
              "</table>\n",
              "</div>\n",
              "      <button class=\"colab-df-convert\" onclick=\"convertToInteractive('df-390323a1-d09c-4c75-a0b1-068da1ec2db0')\"\n",
              "              title=\"Convert this dataframe to an interactive table.\"\n",
              "              style=\"display:none;\">\n",
              "        \n",
              "  <svg xmlns=\"http://www.w3.org/2000/svg\" height=\"24px\"viewBox=\"0 0 24 24\"\n",
              "       width=\"24px\">\n",
              "    <path d=\"M0 0h24v24H0V0z\" fill=\"none\"/>\n",
              "    <path d=\"M18.56 5.44l.94 2.06.94-2.06 2.06-.94-2.06-.94-.94-2.06-.94 2.06-2.06.94zm-11 1L8.5 8.5l.94-2.06 2.06-.94-2.06-.94L8.5 2.5l-.94 2.06-2.06.94zm10 10l.94 2.06.94-2.06 2.06-.94-2.06-.94-.94-2.06-.94 2.06-2.06.94z\"/><path d=\"M17.41 7.96l-1.37-1.37c-.4-.4-.92-.59-1.43-.59-.52 0-1.04.2-1.43.59L10.3 9.45l-7.72 7.72c-.78.78-.78 2.05 0 2.83L4 21.41c.39.39.9.59 1.41.59.51 0 1.02-.2 1.41-.59l7.78-7.78 2.81-2.81c.8-.78.8-2.07 0-2.86zM5.41 20L4 18.59l7.72-7.72 1.47 1.35L5.41 20z\"/>\n",
              "  </svg>\n",
              "      </button>\n",
              "      \n",
              "  <style>\n",
              "    .colab-df-container {\n",
              "      display:flex;\n",
              "      flex-wrap:wrap;\n",
              "      gap: 12px;\n",
              "    }\n",
              "\n",
              "    .colab-df-convert {\n",
              "      background-color: #E8F0FE;\n",
              "      border: none;\n",
              "      border-radius: 50%;\n",
              "      cursor: pointer;\n",
              "      display: none;\n",
              "      fill: #1967D2;\n",
              "      height: 32px;\n",
              "      padding: 0 0 0 0;\n",
              "      width: 32px;\n",
              "    }\n",
              "\n",
              "    .colab-df-convert:hover {\n",
              "      background-color: #E2EBFA;\n",
              "      box-shadow: 0px 1px 2px rgba(60, 64, 67, 0.3), 0px 1px 3px 1px rgba(60, 64, 67, 0.15);\n",
              "      fill: #174EA6;\n",
              "    }\n",
              "\n",
              "    [theme=dark] .colab-df-convert {\n",
              "      background-color: #3B4455;\n",
              "      fill: #D2E3FC;\n",
              "    }\n",
              "\n",
              "    [theme=dark] .colab-df-convert:hover {\n",
              "      background-color: #434B5C;\n",
              "      box-shadow: 0px 1px 3px 1px rgba(0, 0, 0, 0.15);\n",
              "      filter: drop-shadow(0px 1px 2px rgba(0, 0, 0, 0.3));\n",
              "      fill: #FFFFFF;\n",
              "    }\n",
              "  </style>\n",
              "\n",
              "      <script>\n",
              "        const buttonEl =\n",
              "          document.querySelector('#df-390323a1-d09c-4c75-a0b1-068da1ec2db0 button.colab-df-convert');\n",
              "        buttonEl.style.display =\n",
              "          google.colab.kernel.accessAllowed ? 'block' : 'none';\n",
              "\n",
              "        async function convertToInteractive(key) {\n",
              "          const element = document.querySelector('#df-390323a1-d09c-4c75-a0b1-068da1ec2db0');\n",
              "          const dataTable =\n",
              "            await google.colab.kernel.invokeFunction('convertToInteractive',\n",
              "                                                     [key], {});\n",
              "          if (!dataTable) return;\n",
              "\n",
              "          const docLinkHtml = 'Like what you see? Visit the ' +\n",
              "            '<a target=\"_blank\" href=https://colab.research.google.com/notebooks/data_table.ipynb>data table notebook</a>'\n",
              "            + ' to learn more about interactive tables.';\n",
              "          element.innerHTML = '';\n",
              "          dataTable['output_type'] = 'display_data';\n",
              "          await google.colab.output.renderOutput(dataTable, element);\n",
              "          const docLink = document.createElement('div');\n",
              "          docLink.innerHTML = docLinkHtml;\n",
              "          element.appendChild(docLink);\n",
              "        }\n",
              "      </script>\n",
              "    </div>\n",
              "  </div>\n",
              "  "
            ],
            "text/plain": [
              "        Predito 0  Predito 1\n",
              "Real 0      14287       2527\n",
              "Real 1      15508      34518"
            ]
          },
          "execution_count": 42,
          "metadata": {},
          "output_type": "execute_result"
        }
      ],
      "source": [
        "mc = confusion_matrix(y_test_categories, pred_lrGNBSB34)\n",
        "\n",
        "# mostrar um DF\n",
        "df_mc = pd.DataFrame(mc, columns=['Predito 0', 'Predito 1'], index=['Real 0', 'Real 1'])\n",
        "\n",
        "df_mc"
      ]
    },
    {
      "cell_type": "markdown",
      "metadata": {
        "id": "VeQJJt4bQDnT"
      },
      "source": [
        "24 colunas"
      ]
    },
    {
      "cell_type": "code",
      "execution_count": null,
      "metadata": {
        "colab": {
          "base_uri": "https://localhost:8080/",
          "height": 112
        },
        "id": "NUya397EQDnT",
        "outputId": "0bfb7dc7-4227-40f5-a111-f68b18eca965"
      },
      "outputs": [
        {
          "data": {
            "text/html": [
              "\n",
              "  <div id=\"df-bb7954ff-0354-451d-ab64-71ffe9239ae3\">\n",
              "    <div class=\"colab-df-container\">\n",
              "      <div>\n",
              "<style scoped>\n",
              "    .dataframe tbody tr th:only-of-type {\n",
              "        vertical-align: middle;\n",
              "    }\n",
              "\n",
              "    .dataframe tbody tr th {\n",
              "        vertical-align: top;\n",
              "    }\n",
              "\n",
              "    .dataframe thead th {\n",
              "        text-align: right;\n",
              "    }\n",
              "</style>\n",
              "<table border=\"1\" class=\"dataframe\">\n",
              "  <thead>\n",
              "    <tr style=\"text-align: right;\">\n",
              "      <th></th>\n",
              "      <th>Predito 0</th>\n",
              "      <th>Predito 1</th>\n",
              "    </tr>\n",
              "  </thead>\n",
              "  <tbody>\n",
              "    <tr>\n",
              "      <th>Real 0</th>\n",
              "      <td>13482</td>\n",
              "      <td>3332</td>\n",
              "    </tr>\n",
              "    <tr>\n",
              "      <th>Real 1</th>\n",
              "      <td>13604</td>\n",
              "      <td>36422</td>\n",
              "    </tr>\n",
              "  </tbody>\n",
              "</table>\n",
              "</div>\n",
              "      <button class=\"colab-df-convert\" onclick=\"convertToInteractive('df-bb7954ff-0354-451d-ab64-71ffe9239ae3')\"\n",
              "              title=\"Convert this dataframe to an interactive table.\"\n",
              "              style=\"display:none;\">\n",
              "        \n",
              "  <svg xmlns=\"http://www.w3.org/2000/svg\" height=\"24px\"viewBox=\"0 0 24 24\"\n",
              "       width=\"24px\">\n",
              "    <path d=\"M0 0h24v24H0V0z\" fill=\"none\"/>\n",
              "    <path d=\"M18.56 5.44l.94 2.06.94-2.06 2.06-.94-2.06-.94-.94-2.06-.94 2.06-2.06.94zm-11 1L8.5 8.5l.94-2.06 2.06-.94-2.06-.94L8.5 2.5l-.94 2.06-2.06.94zm10 10l.94 2.06.94-2.06 2.06-.94-2.06-.94-.94-2.06-.94 2.06-2.06.94z\"/><path d=\"M17.41 7.96l-1.37-1.37c-.4-.4-.92-.59-1.43-.59-.52 0-1.04.2-1.43.59L10.3 9.45l-7.72 7.72c-.78.78-.78 2.05 0 2.83L4 21.41c.39.39.9.59 1.41.59.51 0 1.02-.2 1.41-.59l7.78-7.78 2.81-2.81c.8-.78.8-2.07 0-2.86zM5.41 20L4 18.59l7.72-7.72 1.47 1.35L5.41 20z\"/>\n",
              "  </svg>\n",
              "      </button>\n",
              "      \n",
              "  <style>\n",
              "    .colab-df-container {\n",
              "      display:flex;\n",
              "      flex-wrap:wrap;\n",
              "      gap: 12px;\n",
              "    }\n",
              "\n",
              "    .colab-df-convert {\n",
              "      background-color: #E8F0FE;\n",
              "      border: none;\n",
              "      border-radius: 50%;\n",
              "      cursor: pointer;\n",
              "      display: none;\n",
              "      fill: #1967D2;\n",
              "      height: 32px;\n",
              "      padding: 0 0 0 0;\n",
              "      width: 32px;\n",
              "    }\n",
              "\n",
              "    .colab-df-convert:hover {\n",
              "      background-color: #E2EBFA;\n",
              "      box-shadow: 0px 1px 2px rgba(60, 64, 67, 0.3), 0px 1px 3px 1px rgba(60, 64, 67, 0.15);\n",
              "      fill: #174EA6;\n",
              "    }\n",
              "\n",
              "    [theme=dark] .colab-df-convert {\n",
              "      background-color: #3B4455;\n",
              "      fill: #D2E3FC;\n",
              "    }\n",
              "\n",
              "    [theme=dark] .colab-df-convert:hover {\n",
              "      background-color: #434B5C;\n",
              "      box-shadow: 0px 1px 3px 1px rgba(0, 0, 0, 0.15);\n",
              "      filter: drop-shadow(0px 1px 2px rgba(0, 0, 0, 0.3));\n",
              "      fill: #FFFFFF;\n",
              "    }\n",
              "  </style>\n",
              "\n",
              "      <script>\n",
              "        const buttonEl =\n",
              "          document.querySelector('#df-bb7954ff-0354-451d-ab64-71ffe9239ae3 button.colab-df-convert');\n",
              "        buttonEl.style.display =\n",
              "          google.colab.kernel.accessAllowed ? 'block' : 'none';\n",
              "\n",
              "        async function convertToInteractive(key) {\n",
              "          const element = document.querySelector('#df-bb7954ff-0354-451d-ab64-71ffe9239ae3');\n",
              "          const dataTable =\n",
              "            await google.colab.kernel.invokeFunction('convertToInteractive',\n",
              "                                                     [key], {});\n",
              "          if (!dataTable) return;\n",
              "\n",
              "          const docLinkHtml = 'Like what you see? Visit the ' +\n",
              "            '<a target=\"_blank\" href=https://colab.research.google.com/notebooks/data_table.ipynb>data table notebook</a>'\n",
              "            + ' to learn more about interactive tables.';\n",
              "          element.innerHTML = '';\n",
              "          dataTable['output_type'] = 'display_data';\n",
              "          await google.colab.output.renderOutput(dataTable, element);\n",
              "          const docLink = document.createElement('div');\n",
              "          docLink.innerHTML = docLinkHtml;\n",
              "          element.appendChild(docLink);\n",
              "        }\n",
              "      </script>\n",
              "    </div>\n",
              "  </div>\n",
              "  "
            ],
            "text/plain": [
              "        Predito 0  Predito 1\n",
              "Real 0      13482       3332\n",
              "Real 1      13604      36422"
            ]
          },
          "execution_count": 43,
          "metadata": {},
          "output_type": "execute_result"
        }
      ],
      "source": [
        "mc = confusion_matrix(y_test_categories, pred_lrGNBSB24)\n",
        "\n",
        "# mostrar um DF\n",
        "df_mc = pd.DataFrame(mc, columns=['Predito 0', 'Predito 1'], index=['Real 0', 'Real 1'])\n",
        "\n",
        "df_mc"
      ]
    },
    {
      "cell_type": "markdown",
      "metadata": {
        "id": "1XWcvYL9QDnU"
      },
      "source": [
        "12 colunas"
      ]
    },
    {
      "cell_type": "code",
      "execution_count": null,
      "metadata": {
        "colab": {
          "base_uri": "https://localhost:8080/",
          "height": 112
        },
        "id": "B5-YFrc-QDnU",
        "outputId": "e2f46b3f-00c6-4bed-aaad-931dbc4ed2cc"
      },
      "outputs": [
        {
          "data": {
            "text/html": [
              "\n",
              "  <div id=\"df-b14d6dbf-7488-4ebf-9a15-305b43a5e350\">\n",
              "    <div class=\"colab-df-container\">\n",
              "      <div>\n",
              "<style scoped>\n",
              "    .dataframe tbody tr th:only-of-type {\n",
              "        vertical-align: middle;\n",
              "    }\n",
              "\n",
              "    .dataframe tbody tr th {\n",
              "        vertical-align: top;\n",
              "    }\n",
              "\n",
              "    .dataframe thead th {\n",
              "        text-align: right;\n",
              "    }\n",
              "</style>\n",
              "<table border=\"1\" class=\"dataframe\">\n",
              "  <thead>\n",
              "    <tr style=\"text-align: right;\">\n",
              "      <th></th>\n",
              "      <th>Predito 0</th>\n",
              "      <th>Predito 1</th>\n",
              "    </tr>\n",
              "  </thead>\n",
              "  <tbody>\n",
              "    <tr>\n",
              "      <th>Real 0</th>\n",
              "      <td>9236</td>\n",
              "      <td>7578</td>\n",
              "    </tr>\n",
              "    <tr>\n",
              "      <th>Real 1</th>\n",
              "      <td>5146</td>\n",
              "      <td>44880</td>\n",
              "    </tr>\n",
              "  </tbody>\n",
              "</table>\n",
              "</div>\n",
              "      <button class=\"colab-df-convert\" onclick=\"convertToInteractive('df-b14d6dbf-7488-4ebf-9a15-305b43a5e350')\"\n",
              "              title=\"Convert this dataframe to an interactive table.\"\n",
              "              style=\"display:none;\">\n",
              "        \n",
              "  <svg xmlns=\"http://www.w3.org/2000/svg\" height=\"24px\"viewBox=\"0 0 24 24\"\n",
              "       width=\"24px\">\n",
              "    <path d=\"M0 0h24v24H0V0z\" fill=\"none\"/>\n",
              "    <path d=\"M18.56 5.44l.94 2.06.94-2.06 2.06-.94-2.06-.94-.94-2.06-.94 2.06-2.06.94zm-11 1L8.5 8.5l.94-2.06 2.06-.94-2.06-.94L8.5 2.5l-.94 2.06-2.06.94zm10 10l.94 2.06.94-2.06 2.06-.94-2.06-.94-.94-2.06-.94 2.06-2.06.94z\"/><path d=\"M17.41 7.96l-1.37-1.37c-.4-.4-.92-.59-1.43-.59-.52 0-1.04.2-1.43.59L10.3 9.45l-7.72 7.72c-.78.78-.78 2.05 0 2.83L4 21.41c.39.39.9.59 1.41.59.51 0 1.02-.2 1.41-.59l7.78-7.78 2.81-2.81c.8-.78.8-2.07 0-2.86zM5.41 20L4 18.59l7.72-7.72 1.47 1.35L5.41 20z\"/>\n",
              "  </svg>\n",
              "      </button>\n",
              "      \n",
              "  <style>\n",
              "    .colab-df-container {\n",
              "      display:flex;\n",
              "      flex-wrap:wrap;\n",
              "      gap: 12px;\n",
              "    }\n",
              "\n",
              "    .colab-df-convert {\n",
              "      background-color: #E8F0FE;\n",
              "      border: none;\n",
              "      border-radius: 50%;\n",
              "      cursor: pointer;\n",
              "      display: none;\n",
              "      fill: #1967D2;\n",
              "      height: 32px;\n",
              "      padding: 0 0 0 0;\n",
              "      width: 32px;\n",
              "    }\n",
              "\n",
              "    .colab-df-convert:hover {\n",
              "      background-color: #E2EBFA;\n",
              "      box-shadow: 0px 1px 2px rgba(60, 64, 67, 0.3), 0px 1px 3px 1px rgba(60, 64, 67, 0.15);\n",
              "      fill: #174EA6;\n",
              "    }\n",
              "\n",
              "    [theme=dark] .colab-df-convert {\n",
              "      background-color: #3B4455;\n",
              "      fill: #D2E3FC;\n",
              "    }\n",
              "\n",
              "    [theme=dark] .colab-df-convert:hover {\n",
              "      background-color: #434B5C;\n",
              "      box-shadow: 0px 1px 3px 1px rgba(0, 0, 0, 0.15);\n",
              "      filter: drop-shadow(0px 1px 2px rgba(0, 0, 0, 0.3));\n",
              "      fill: #FFFFFF;\n",
              "    }\n",
              "  </style>\n",
              "\n",
              "      <script>\n",
              "        const buttonEl =\n",
              "          document.querySelector('#df-b14d6dbf-7488-4ebf-9a15-305b43a5e350 button.colab-df-convert');\n",
              "        buttonEl.style.display =\n",
              "          google.colab.kernel.accessAllowed ? 'block' : 'none';\n",
              "\n",
              "        async function convertToInteractive(key) {\n",
              "          const element = document.querySelector('#df-b14d6dbf-7488-4ebf-9a15-305b43a5e350');\n",
              "          const dataTable =\n",
              "            await google.colab.kernel.invokeFunction('convertToInteractive',\n",
              "                                                     [key], {});\n",
              "          if (!dataTable) return;\n",
              "\n",
              "          const docLinkHtml = 'Like what you see? Visit the ' +\n",
              "            '<a target=\"_blank\" href=https://colab.research.google.com/notebooks/data_table.ipynb>data table notebook</a>'\n",
              "            + ' to learn more about interactive tables.';\n",
              "          element.innerHTML = '';\n",
              "          dataTable['output_type'] = 'display_data';\n",
              "          await google.colab.output.renderOutput(dataTable, element);\n",
              "          const docLink = document.createElement('div');\n",
              "          docLink.innerHTML = docLinkHtml;\n",
              "          element.appendChild(docLink);\n",
              "        }\n",
              "      </script>\n",
              "    </div>\n",
              "  </div>\n",
              "  "
            ],
            "text/plain": [
              "        Predito 0  Predito 1\n",
              "Real 0       9236       7578\n",
              "Real 1       5146      44880"
            ]
          },
          "execution_count": 44,
          "metadata": {},
          "output_type": "execute_result"
        }
      ],
      "source": [
        "mc = confusion_matrix(y_test_categories, pred_lrGNBSB12)\n",
        "\n",
        "# mostrar um DF\n",
        "df_mc = pd.DataFrame(mc, columns=['Predito 0', 'Predito 1'], index=['Real 0', 'Real 1'])\n",
        "\n",
        "df_mc"
      ]
    },
    {
      "cell_type": "markdown",
      "metadata": {
        "id": "gVy93e6cQDnV"
      },
      "source": [
        "Especificidade e Sensibilidade"
      ]
    },
    {
      "cell_type": "code",
      "execution_count": null,
      "metadata": {
        "colab": {
          "base_uri": "https://localhost:8080/"
        },
        "id": "V9bkMM4nQDnV",
        "outputId": "34b7c257-8ab3-41d9-f0e8-d347dc38124e"
      },
      "outputs": [
        {
          "name": "stdout",
          "output_type": "stream",
          "text": [
            "Sensibilidade SB34 0.6900011993763243\n",
            "Especificidade SB34 0.8497085761865112\n",
            "Sensibilidade SB24 0.7280614080678047\n",
            "Especificidade SB24 0.8018318068276437\n",
            "Sensibilidade SB12 0.8971334905848959\n",
            "Especificidade SB12 0.549304151302486\n"
          ]
        }
      ],
      "source": [
        "from  sklearn.metrics import recall_score\n",
        "\n",
        "# sensibilidade = recall para a categoria 1\n",
        "sGNBSB34 = recall_score(y_test_categories, pred_lrGNBSB34, pos_label=1)\n",
        "\n",
        "# especificidade = recall para a categoria 0\n",
        "eGNBSB34 = recall_score(y_test_categories, pred_lrGNBSB34, pos_label=0)\n",
        "\n",
        "print(\"Sensibilidade SB34\", sGNBSB34)\n",
        "print(\"Especificidade SB34\", eGNBSB34)\n",
        "\n",
        "# sensibilidade = recall para a categoria 1\n",
        "sGNBSB24 = recall_score(y_test_categories, pred_lrGNBSB24, pos_label=1)\n",
        "\n",
        "# especificidade = recall para a categoria 0\n",
        "eGNBSB24 = recall_score(y_test_categories, pred_lrGNBSB24, pos_label=0)\n",
        "\n",
        "print(\"Sensibilidade SB24\", sGNBSB24)\n",
        "print(\"Especificidade SB24\", eGNBSB24)\n",
        "\n",
        "# sensibilidade = recall para a categoria 1\n",
        "sGNBSB12 = recall_score(y_test_categories, pred_lrGNBSB12, pos_label=1)\n",
        "\n",
        "# especificidade = recall para a categoria 0\n",
        "eGNBSB12 = recall_score(y_test_categories, pred_lrGNBSB12, pos_label=0)\n",
        "\n",
        "print(\"Sensibilidade SB12\", sGNBSB12)\n",
        "print(\"Especificidade SB12\", eGNBSB12)"
      ]
    },
    {
      "cell_type": "code",
      "execution_count": null,
      "metadata": {
        "colab": {
          "base_uri": "https://localhost:8080/",
          "height": 472
        },
        "id": "IPsFMnWlXMFo",
        "outputId": "698f1786-4459-46c6-a243-4a0ab0d0b662"
      },
      "outputs": [
        {
          "data": {
            "image/png": "[encoded data removed]",
            "text/plain": [
              "<Figure size 640x480 with 1 Axes>"
            ]
          },
          "metadata": {},
          "output_type": "display_data"
        }
      ],
      "source": [
        "import matplotlib.pyplot as plt\n",
        "from sklearn.metrics import recall_score\n",
        "\n",
        "sensitivity = []\n",
        "specificity = []\n",
        "num_attributes = []\n",
        "\n",
        "# SB34\n",
        "sensitivity.append(sGNBSB34)\n",
        "specificity.append(eGNBSB34)\n",
        "num_attributes.append(len(X_trainsSB34.columns))\n",
        "\n",
        "# SB24\n",
        "sensitivity.append(sGNBSB24)\n",
        "specificity.append(eGNBSB24)\n",
        "num_attributes.append(len(X_trainsSB24.columns))\n",
        "\n",
        "# SB12\n",
        "sensitivity.append(sGNBSB12)\n",
        "specificity.append(eGNBSB12)\n",
        "num_attributes.append(len(X_trainsSB12.columns))\n",
        "\n",
        "plt.plot(num_attributes, sensitivity, marker='o', label='Sensibilidade')\n",
        "plt.plot(num_attributes, specificity, marker='o', label='Especificidade')\n",
        "plt.xlabel('Quantidade de atributos')\n",
        "plt.ylabel('Valor')\n",
        "plt.title('Sensibilidade e Especificidade em relação à quantidade de atributos')\n",
        "plt.legend()\n",
        "plt.show()"
      ]
    },
    {
      "cell_type": "markdown",
      "metadata": {
        "id": "s1z_ZwoHQDnV"
      },
      "source": [
        "Precisão e Revocação"
      ]
    },
    {
      "cell_type": "code",
      "execution_count": null,
      "metadata": {
        "colab": {
          "base_uri": "https://localhost:8080/"
        },
        "id": "ls3nA8zYQDnW",
        "outputId": "964f29ef-c746-49b6-b08f-7cb4b0050141"
      },
      "outputs": [
        {
          "name": "stdout",
          "output_type": "stream",
          "text": [
            "Precisão SB34:  [0.47950998 0.93178567]\n",
            "Revocação SB34:  [0.84970858 0.6900012 ]\n",
            "Precisão SB24:  [0.49774791 0.91618453]\n",
            "Revocação SB24:  [0.80183181 0.72806141]\n",
            "Precisão SB12:  [0.64219163 0.85554158]\n",
            "Revocação SB12:  [0.54930415 0.89713349]\n"
          ]
        }
      ],
      "source": [
        "from  sklearn.metrics import precision_recall_fscore_support\n",
        "prGNBSB34 = precision_recall_fscore_support(y_test_categories, pred_lrGNBSB34)\n",
        "\n",
        "print('Precisão SB34: ', prGNBSB34[0])\n",
        "print('Revocação SB34: ', prGNBSB34[1])\n",
        "\n",
        "prGNBSB24 = precision_recall_fscore_support(y_test_categories, pred_lrGNBSB24)\n",
        "\n",
        "print('Precisão SB24: ', prGNBSB24[0])\n",
        "print('Revocação SB24: ', prGNBSB24[1])\n",
        "\n",
        "prGNBSB12 = precision_recall_fscore_support(y_test_categories, pred_lrGNBSB12)\n",
        "\n",
        "print('Precisão SB12: ', prGNBSB12[0])\n",
        "print('Revocação SB12: ', prGNBSB12[1])"
      ]
    },
    {
      "cell_type": "code",
      "execution_count": null,
      "metadata": {
        "colab": {
          "base_uri": "https://localhost:8080/",
          "height": 472
        },
        "id": "sMzuI8BBXtpM",
        "outputId": "47f5327e-c2f4-4429-ef5b-1ff7ce027f48"
      },
      "outputs": [
        {
          "data": {
            "image/png": "[encoded data removed]",
            "text/plain": [
              "<Figure size 640x480 with 1 Axes>"
            ]
          },
          "metadata": {},
          "output_type": "display_data"
        }
      ],
      "source": [
        "import matplotlib.pyplot as plt\n",
        "from sklearn.metrics import precision_recall_fscore_support\n",
        "\n",
        "precision = []\n",
        "recall = []\n",
        "num_attributes = []\n",
        "\n",
        "# SB34\n",
        "precision.append(prGNBSB34[0][1])\n",
        "recall.append(prGNBSB34[1][1])\n",
        "num_attributes.append(len(X_trainsSB34.columns))\n",
        "\n",
        "# SB24\n",
        "precision.append(prGNBSB24[0][1])\n",
        "recall.append(prGNBSB24[1][1])\n",
        "num_attributes.append(len(X_trainsSB24.columns))\n",
        "\n",
        "# SB12\n",
        "precision.append(prGNBSB12[0][1])\n",
        "recall.append(prGNBSB12[1][1])\n",
        "num_attributes.append(len(X_trainsSB12.columns))\n",
        "\n",
        "plt.plot(num_attributes, precision, marker='o', label='Precisão')\n",
        "plt.plot(num_attributes, recall, marker='o', label='Revocação')\n",
        "plt.xlabel('Quantidade de atributos')\n",
        "plt.ylabel('Valor')\n",
        "plt.title('Precisão e Revocação em relação à quantidade de atributos')\n",
        "plt.legend()\n",
        "plt.show()"
      ]
    },
    {
      "cell_type": "markdown",
      "metadata": {
        "id": "p4PVUPbOQDnW"
      },
      "source": [
        "Resumo dos Testes com GaussianNB"
      ]
    },
    {
      "cell_type": "code",
      "execution_count": null,
      "metadata": {
        "id": "LAImsSptQDna"
      },
      "outputs": [],
      "source": [
        "from  sklearn.metrics import classification_report"
      ]
    },
    {
      "cell_type": "markdown",
      "metadata": {
        "id": "aYKqWBPTQDna"
      },
      "source": [
        "34 colunas"
      ]
    },
    {
      "cell_type": "code",
      "execution_count": null,
      "metadata": {
        "colab": {
          "base_uri": "https://localhost:8080/"
        },
        "id": "1SyRT4dAQDnb",
        "outputId": "cbcdc1de-9524-4f43-e3b9-bab83b263e84"
      },
      "outputs": [
        {
          "name": "stdout",
          "output_type": "stream",
          "text": [
            "              precision    recall  f1-score   support\n",
            "\n",
            "           0       0.48      0.85      0.61     16814\n",
            "           1       0.93      0.69      0.79     50026\n",
            "\n",
            "    accuracy                           0.73     66840\n",
            "   macro avg       0.71      0.77      0.70     66840\n",
            "weighted avg       0.82      0.73      0.75     66840\n",
            "\n"
          ]
        }
      ],
      "source": [
        "cr = classification_report(y_test_categories, pred_lrGNBSB34)\n",
        "\n",
        "print(cr)"
      ]
    },
    {
      "cell_type": "markdown",
      "metadata": {
        "id": "JiHhbugRQDnc"
      },
      "source": [
        "24 colunas"
      ]
    },
    {
      "cell_type": "code",
      "execution_count": null,
      "metadata": {
        "colab": {
          "base_uri": "https://localhost:8080/"
        },
        "id": "NETYan8QQDnd",
        "outputId": "9d1896c8-2502-4464-9b25-8eba7e354f36"
      },
      "outputs": [
        {
          "name": "stdout",
          "output_type": "stream",
          "text": [
            "              precision    recall  f1-score   support\n",
            "\n",
            "           0       0.50      0.80      0.61     16814\n",
            "           1       0.92      0.73      0.81     50026\n",
            "\n",
            "    accuracy                           0.75     66840\n",
            "   macro avg       0.71      0.76      0.71     66840\n",
            "weighted avg       0.81      0.75      0.76     66840\n",
            "\n"
          ]
        }
      ],
      "source": [
        "cr = classification_report(y_test_categories, pred_lrGNBSB24)\n",
        "\n",
        "print(cr)"
      ]
    },
    {
      "cell_type": "markdown",
      "metadata": {
        "id": "A2yoneA8QDnd"
      },
      "source": [
        "12 colunas"
      ]
    },
    {
      "cell_type": "code",
      "execution_count": null,
      "metadata": {
        "colab": {
          "base_uri": "https://localhost:8080/"
        },
        "id": "fVasJ3TFQDne",
        "outputId": "165fa753-bdf9-4f3a-f500-9b906520474c"
      },
      "outputs": [
        {
          "name": "stdout",
          "output_type": "stream",
          "text": [
            "              precision    recall  f1-score   support\n",
            "\n",
            "           0       0.64      0.55      0.59     16814\n",
            "           1       0.86      0.90      0.88     50026\n",
            "\n",
            "    accuracy                           0.81     66840\n",
            "   macro avg       0.75      0.72      0.73     66840\n",
            "weighted avg       0.80      0.81      0.80     66840\n",
            "\n"
          ]
        }
      ],
      "source": [
        "cr = classification_report(y_test_categories, pred_lrGNBSB12)\n",
        "\n",
        "print(cr)"
      ]
    },
    {
      "cell_type": "markdown",
      "metadata": {
        "id": "JaUoeAUkQDne"
      },
      "source": [
        "Holdout Repetitivo MLPClassifier"
      ]
    },
    {
      "cell_type": "code",
      "execution_count": null,
      "metadata": {
        "id": "LcoHovIWQDne"
      },
      "outputs": [],
      "source": [
        "from sklearn.naive_bayes import GaussianNB\n",
        "from sklearn.model_selection import train_test_split\n",
        "from sklearn.metrics import accuracy_score\n",
        "import random"
      ]
    },
    {
      "cell_type": "markdown",
      "metadata": {
        "id": "Ek4CiCmjQDnf"
      },
      "source": [
        "34 colunas"
      ]
    },
    {
      "cell_type": "code",
      "execution_count": null,
      "metadata": {
        "colab": {
          "base_uri": "https://localhost:8080/"
        },
        "id": "WD9PtCKcQDnf",
        "outputId": "66bfc9f5-5df8-4472-caa1-47e4a335141d"
      },
      "outputs": [
        {
          "name": "stdout",
          "output_type": "stream",
          "text": [
            "Média:  0.7353131857171353\n"
          ]
        }
      ],
      "source": [
        "#gerar 10 números aleatórios entre 1 e 1000\n",
        "list_random = random.sample(range(1, 1000), 10)\n",
        "\n",
        "gnb = GaussianNB()\n",
        "\n",
        "accs = []\n",
        "for r in list_random:\n",
        "  X_train, X_test, y_train, y_test = train_test_split(\n",
        "      X_trainsSB34,\n",
        "      y_train_categories,\n",
        "      test_size = 0.3,\n",
        "      stratify=y_train_categories,\n",
        "      random_state=r\n",
        "  )\n",
        "\n",
        "\n",
        "  gnb = gnb.fit(X_train, y_train)\n",
        "  y_predict = gnb.predict(X_test)\n",
        "  acuracia = accuracy_score(y_test, y_predict)\n",
        "  accs.append(acuracia)\n",
        "print('Média: ', sum(accs)/len(accs))"
      ]
    },
    {
      "cell_type": "markdown",
      "metadata": {
        "id": "ZM7UGLfRQDnf"
      },
      "source": [
        "24 colunas"
      ]
    },
    {
      "cell_type": "code",
      "execution_count": null,
      "metadata": {
        "colab": {
          "base_uri": "https://localhost:8080/"
        },
        "id": "FDgU8HC-QDng",
        "outputId": "fc2e6c31-ff88-4490-dd37-35525415097f"
      },
      "outputs": [
        {
          "name": "stdout",
          "output_type": "stream",
          "text": [
            "Média:  0.750029922202274\n"
          ]
        }
      ],
      "source": [
        "#gerar 10 números aleatórios entre 1 e 1000\n",
        "list_random = random.sample(range(1, 1000), 10)\n",
        "\n",
        "gnb = GaussianNB()\n",
        "\n",
        "accs = []\n",
        "for r in list_random:\n",
        "  X_train, X_test, y_train, y_test = train_test_split(\n",
        "      X_trainsSB24,\n",
        "      y_train_categories,\n",
        "      test_size = 0.3,\n",
        "      stratify=y_train_categories,\n",
        "      random_state=r\n",
        "  )\n",
        "\n",
        "\n",
        "  gnb = gnb.fit(X_train, y_train)\n",
        "  y_predict = gnb.predict(X_test)\n",
        "  acuracia = accuracy_score(y_test, y_predict)\n",
        "  accs.append(acuracia)\n",
        "print('Média: ', sum(accs)/len(accs))"
      ]
    },
    {
      "cell_type": "markdown",
      "metadata": {
        "id": "kzpOWA24QDng"
      },
      "source": [
        "12 colunas"
      ]
    },
    {
      "cell_type": "code",
      "execution_count": null,
      "metadata": {
        "colab": {
          "base_uri": "https://localhost:8080/"
        },
        "id": "roHJs7xQQDng",
        "outputId": "8807f551-af2f-47f7-a45b-35f197618eac"
      },
      "outputs": [
        {
          "name": "stdout",
          "output_type": "stream",
          "text": [
            "Média:  0.8090315180530621\n"
          ]
        }
      ],
      "source": [
        "#gerar 10 números aleatórios entre 1 e 1000\n",
        "list_random = random.sample(range(1, 1000), 10)\n",
        "\n",
        "gnb = GaussianNB()\n",
        "\n",
        "accs = []\n",
        "for r in list_random:\n",
        "  X_train, X_test, y_train, y_test = train_test_split(\n",
        "      X_trainsSB12,\n",
        "      y_train_categories,\n",
        "      test_size = 0.3,\n",
        "      stratify=y_train_categories,\n",
        "      random_state=r\n",
        "  )\n",
        "\n",
        "\n",
        "  gnb = gnb.fit(X_train, y_train)\n",
        "  y_predict = gnb.predict(X_test)\n",
        "  acuracia = accuracy_score(y_test, y_predict)\n",
        "  accs.append(acuracia)\n",
        "print('Média: ', sum(accs)/len(accs))"
      ]
    },
    {
      "cell_type": "markdown",
      "metadata": {
        "id": "MSHesZNAQDng"
      },
      "source": [
        "Cross-Validation MLPClassifier"
      ]
    },
    {
      "cell_type": "code",
      "execution_count": null,
      "metadata": {
        "id": "nMUCrrALQDnh"
      },
      "outputs": [],
      "source": [
        "from sklearn.model_selection import cross_val_predict\n",
        "from sklearn.metrics import classification_report"
      ]
    },
    {
      "cell_type": "markdown",
      "metadata": {
        "id": "yAJyh6wwQDnh"
      },
      "source": [
        "34 colunas"
      ]
    },
    {
      "cell_type": "code",
      "execution_count": null,
      "metadata": {
        "colab": {
          "base_uri": "https://localhost:8080/"
        },
        "id": "5Yz2Ezx8QDnh",
        "outputId": "e9703640-f23c-459e-fe37-d86cf652f027"
      },
      "outputs": [
        {
          "name": "stdout",
          "output_type": "stream",
          "text": [
            "              precision    recall  f1-score   support\n",
            "\n",
            "           0       0.48      0.85      0.62     16814\n",
            "           1       0.93      0.70      0.80     50026\n",
            "\n",
            "    accuracy                           0.73     66840\n",
            "   macro avg       0.71      0.77      0.71     66840\n",
            "weighted avg       0.82      0.73      0.75     66840\n",
            "\n"
          ]
        }
      ],
      "source": [
        "gnb = GaussianNB()\n",
        "\n",
        "# aplicar 10-fold cross validantios no modelo.\n",
        "# cv recebe a quantidade de folds\n",
        "y_predict = cross_val_predict(gnb, X_trainsSB34, y_train_categories, cv=10)\n",
        "\n",
        "report = classification_report(y_train_categories, y_predict)\n",
        "\n",
        "print(report)"
      ]
    },
    {
      "cell_type": "markdown",
      "metadata": {
        "id": "mdk1C9qVQDni"
      },
      "source": [
        "24 colunas"
      ]
    },
    {
      "cell_type": "code",
      "execution_count": null,
      "metadata": {
        "colab": {
          "base_uri": "https://localhost:8080/"
        },
        "id": "UrDF24r_QDni",
        "outputId": "1c3deed8-aa39-452a-a85c-17b0ec152bb4"
      },
      "outputs": [
        {
          "name": "stdout",
          "output_type": "stream",
          "text": [
            "              precision    recall  f1-score   support\n",
            "\n",
            "           0       0.50      0.76      0.60     16814\n",
            "           1       0.90      0.75      0.82     50026\n",
            "\n",
            "    accuracy                           0.75     66840\n",
            "   macro avg       0.70      0.75      0.71     66840\n",
            "weighted avg       0.80      0.75      0.76     66840\n",
            "\n"
          ]
        }
      ],
      "source": [
        "gnb = GaussianNB()\n",
        "\n",
        "# aplicar 10-fold cross validantios no modelo.\n",
        "# cv recebe a quantidade de folds\n",
        "y_predict = cross_val_predict(gnb, X_trainsSB24, y_train_categories, cv=10)\n",
        "\n",
        "report = classification_report(y_train_categories, y_predict)\n",
        "\n",
        "print(report)"
      ]
    },
    {
      "cell_type": "markdown",
      "metadata": {
        "id": "JWl0H_88QDni"
      },
      "source": [
        "12 colunas"
      ]
    },
    {
      "cell_type": "code",
      "execution_count": null,
      "metadata": {
        "colab": {
          "base_uri": "https://localhost:8080/"
        },
        "id": "M2r3sQM2QDni",
        "outputId": "b8b2b12f-2fe6-4176-afc1-e06198e8e3d3"
      },
      "outputs": [
        {
          "name": "stdout",
          "output_type": "stream",
          "text": [
            "              precision    recall  f1-score   support\n",
            "\n",
            "           0       0.64      0.55      0.59     16814\n",
            "           1       0.86      0.90      0.88     50026\n",
            "\n",
            "    accuracy                           0.81     66840\n",
            "   macro avg       0.75      0.72      0.73     66840\n",
            "weighted avg       0.80      0.81      0.80     66840\n",
            "\n"
          ]
        }
      ],
      "source": [
        "gnb = GaussianNB()\n",
        "\n",
        "# aplicar 10-fold cross validantios no modelo.\n",
        "# cv recebe a quantidade de folds\n",
        "y_predict = cross_val_predict(gnb, X_trainsSB12, y_train_categories, cv=10)\n",
        "\n",
        "report = classification_report(y_train_categories, y_predict)\n",
        "\n",
        "print(report)"
      ]
    },
    {
      "cell_type": "markdown",
      "metadata": {
        "id": "tLuhd2YCQDnj"
      },
      "source": [
        "Leave-one-Out MLPClassifier"
      ]
    },
    {
      "cell_type": "code",
      "execution_count": null,
      "metadata": {
        "id": "j-LB4LbLQDnj"
      },
      "outputs": [],
      "source": [
        "from sklearn.model_selection import cross_val_predict, LeaveOneOut\n",
        "from sklearn.metrics import classification_report\n",
        "from sklearn import tree\n"
      ]
    },
    {
      "cell_type": "markdown",
      "metadata": {
        "id": "7O5s1DKmQDnj"
      },
      "source": [
        "34 colunas"
      ]
    },
    {
      "cell_type": "code",
      "execution_count": null,
      "metadata": {
        "id": "jzb1q_roQDnk"
      },
      "outputs": [],
      "source": [
        "gnb = GaussianNB()\n",
        "\n",
        "# aplicar 10-fold cross validantios no modelo.\n",
        "# cv recebe a quantidade de folds\n",
        "loo = LeaveOneOut()\n",
        "y_predict = cross_val_predict(gnb, X_trainsSB34, y_train_categories, cv=loo.split(X_trainsSB34))\n",
        "\n",
        "report = classification_report(y_train_categories, y_predict)\n",
        "\n",
        "print(report)"
      ]
    },
    {
      "cell_type": "markdown",
      "metadata": {
        "id": "qRzrOA7NQDnk"
      },
      "source": [
        "24 colunas"
      ]
    },
    {
      "cell_type": "code",
      "execution_count": null,
      "metadata": {
        "id": "C2-rF-oGQDnk"
      },
      "outputs": [],
      "source": [
        "gnb = GaussianNB()\n",
        "\n",
        "# aplicar 10-fold cross validantios no modelo.\n",
        "# cv recebe a quantidade de folds\n",
        "loo = LeaveOneOut()\n",
        "y_predict = cross_val_predict(gnb, X_trainsSB24, y_train_categories, cv=loo.split(X_trainsSB24))\n",
        "\n",
        "report = classification_report(y_train_categories, y_predict)\n",
        "\n",
        "print(report)"
      ]
    },
    {
      "cell_type": "markdown",
      "metadata": {
        "id": "KICm0dGaQDnk"
      },
      "source": [
        "12 colunas"
      ]
    },
    {
      "cell_type": "code",
      "execution_count": null,
      "metadata": {
        "id": "fTd8c_5tQDnk"
      },
      "outputs": [],
      "source": [
        "gnb = GaussianNB()\n",
        "\n",
        "# aplicar 10-fold cross validantios no modelo.\n",
        "# cv recebe a quantidade de folds\n",
        "loo = LeaveOneOut()\n",
        "y_predict = cross_val_predict(gnb, X_trainsSB12, y_train_categories, cv=loo.split(X_trainsSB12))\n",
        "\n",
        "report = classification_report(y_train_categories, y_predict)\n",
        "\n",
        "print(report)"
      ]
    },
    {
      "cell_type": "markdown",
      "metadata": {
        "id": "rsq6k5fyYWTJ"
      },
      "source": [
        "## GridSeachCV"
      ]
    },
    {
      "cell_type": "markdown",
      "metadata": {
        "id": "0eRAipLRZjbB"
      },
      "source": [
        "DecisionTree"
      ]
    },
    {
      "cell_type": "code",
      "execution_count": null,
      "metadata": {
        "colab": {
          "base_uri": "https://localhost:8080/"
        },
        "id": "AgAR1A9PYnxR",
        "outputId": "702cf9c8-a5d8-4078-c858-790ae84f0e4f"
      },
      "outputs": [
        {
          "output_type": "stream",
          "name": "stdout",
          "text": [
            "Melhores hiperparâmetros para DecisionTreeClassifier (cv=15, scoring=roc_auc):\n",
            "  Rank: 1\n",
            "  Média do Test Score: 0.921952705846922\n",
            "  Hiperparâmetros: {'criterion': 'gini', 'max_depth': None, 'min_samples_leaf': 4, 'min_samples_split': 10}\n"
          ]
        }
      ],
      "source": [
        "from sklearn.tree import DecisionTreeClassifier\n",
        "from sklearn.model_selection import GridSearchCV\n",
        "\n",
        "params = {\n",
        "    'criterion':('gini', 'entropy', 'log_loss'),\n",
        "    'max_depth':[3, 5, 7, None],\n",
        "    'min_samples_split': [2, 5, 10],\n",
        "    'min_samples_leaf': [1, 2, 4]\n",
        "}\n",
        "cvAr = [5, 10, 15]\n",
        "scoringAr = ['accuracy', 'precision', 'recall', 'f1', 'roc_auc']\n",
        "best_rank = float('inf')\n",
        "\n",
        "for i in cvAr:\n",
        "  for j in scoringAr:\n",
        "    rf = DecisionTreeClassifier(random_state=88)\n",
        "    gs = GridSearchCV(rf, params, cv=i, scoring=j)\n",
        "    gs.fit(X_trainsSB24, y_train_categories)\n",
        "\n",
        "    result = pd.DataFrame(gs.cv_results_)\n",
        "    sorted_result = result[['params','rank_test_score','mean_test_score']].sort_values('rank_test_score')\n",
        "\n",
        "best_params = sorted_result.loc[sorted_result['rank_test_score'] == 1, 'params'].iloc[0]\n",
        "best_mean_score = sorted_result.loc[sorted_result['rank_test_score'] == 1, 'mean_test_score'].iloc[0]\n",
        "\n",
        "print('Melhores hiperparâmetros para DecisionTreeClassifier (cv={}, scoring={}):'.format(i, j))\n",
        "print('  Rank:', 1)\n",
        "print('  Média do Test Score:', best_mean_score)\n",
        "print('  Hiperparâmetros:', best_params)"
      ]
    },
    {
      "cell_type": "markdown",
      "source": [
        "MLPClassifier\n"
      ],
      "metadata": {
        "id": "atojf6gpA-67"
      }
    },
    {
      "cell_type": "code",
      "source": [
        "from sklearn.neural_network import MLPClassifier\n",
        "from sklearn.model_selection import GridSearchCV\n",
        "\n",
        "params = {\n",
        "    'activation': ('identity', 'logistic', 'tanh', 'relu'),\n",
        "    'solver': ('lbfgs', 'sgd', 'adam'),\n",
        "    'learning_rate': ('constant', 'invscaling', 'adaptive'),\n",
        "}\n",
        "\n",
        "cvAr = [5, 10, 15]\n",
        "scoringAr = ['accuracy', 'precision', 'recall', 'f1', 'roc_auc']\n",
        "best_rank = float('inf')\n",
        "x_train1 = X_trainsSB34.head(10000)\n",
        "y_train = y_train_categories.head(10000)\n",
        "n = 0\n",
        "for i in cvAr:\n",
        "  for j in scoringAr:\n",
        "    rf = MLPClassifier(random_state=88)\n",
        "    gs = GridSearchCV(rf, params, cv=i, scoring=j)\n",
        "    gs.fit(x_train1, y_train)\n",
        "\n",
        "    n += 1\n",
        "    print('########################{}###########################'.format(n))\n",
        "    result = pd.DataFrame(gs.cv_results_)\n",
        "    sorted_result = result[['params','rank_test_score','mean_test_score']].sort_values('rank_test_score')\n",
        "\n",
        "best_params = sorted_result.loc[sorted_result['rank_test_score'] == 1, 'params'].iloc[0]\n",
        "best_mean_score = sorted_result.loc[sorted_result['rank_test_score'] == 1, 'mean_test_score'].iloc[0]\n",
        "\n",
        "print('Melhores hiperparâmetros para MLPClassifier (cv={}, scoring={}):'.format(i, j))\n",
        "print('  Rank:', 1)\n",
        "print('  Média do Test Score:', best_mean_score)\n",
        "print('  Hiperparâmetros:', best_params)\n"
      ],
      "metadata": {
        "colab": {
          "base_uri": "https://localhost:8080/"
        },
        "id": "bUjHBiQQBDDW",
        "outputId": "17551705-e8c0-4cea-a4aa-f0ee2e197eca"
      },
      "execution_count": null,
      "outputs": [
        {
          "output_type": "stream",
          "name": "stderr",
          "text": [
            "/usr/local/lib/python3.10/dist-packages/sklearn/neural_network/_multilayer_perceptron.py:541: ConvergenceWarning: lbfgs failed to converge (status=1):\n",
            "STOP: TOTAL NO. of ITERATIONS REACHED LIMIT.\n",
            "\n",
            "Increase the number of iterations (max_iter) or scale the data as shown in:\n",
            "    https://scikit-learn.org/stable/modules/preprocessing.html\n",
            "  self.n_iter_ = _check_optimize_result(\"lbfgs\", opt_res, self.max_iter)\n",
            "/usr/local/lib/python3.10/dist-packages/sklearn/neural_network/_multilayer_perceptron.py:541: ConvergenceWarning: lbfgs failed to converge (status=1):\n",
            "STOP: TOTAL NO. of ITERATIONS REACHED LIMIT.\n",
            "\n",
            "Increase the number of iterations (max_iter) or scale the data as shown in:\n",
            "    https://scikit-learn.org/stable/modules/preprocessing.html\n",
            "  self.n_iter_ = _check_optimize_result(\"lbfgs\", opt_res, self.max_iter)\n",
            "\n",
            "KeyboardInterrupt\n",
            "\n"
          ]
        }
      ]
    },
    {
      "cell_type": "code",
      "source": [
        "from sklearn.neural_network import MLPClassifier\n",
        "from sklearn.metrics import accuracy_score\n",
        "best_params = {'activation': 'relu', 'learning_rate': 'constant', 'solver': 'adam'}\n",
        "model_lr = MLPClassifier(**best_params)\n",
        "model_lr.fit(X_trainsSB34, y_train_categories)\n",
        "pred_lrDTSB34 = model_lr.predict(X_testSB34)\n",
        "\n",
        "acc_lrDTSB34 = accuracy_score(y_test_categories, pred_lrDTSB34)\n",
        "\n",
        "print(\"Acurácia MLPClassifier sb34:\", acc_lrDTSB34)"
      ],
      "metadata": {
        "colab": {
          "base_uri": "https://localhost:8080/"
        },
        "id": "fuxZLFXTepD0",
        "outputId": "c02dd6ce-d35c-4448-dab6-00c0a2b96fac"
      },
      "execution_count": null,
      "outputs": [
        {
          "output_type": "stream",
          "name": "stdout",
          "text": [
            "Acurácia MLPClassifier sb24: 0.8887642130460802\n"
          ]
        }
      ]
    },
    {
      "cell_type": "markdown",
      "source": [
        "GaussianNB"
      ],
      "metadata": {
        "id": "OCs-KJg7BDn1"
      }
    },
    {
      "cell_type": "code",
      "source": [
        "from sklearn.naive_bayes import GaussianNB\n",
        "from sklearn.model_selection import GridSearchCV\n",
        "\n",
        "params = {\n",
        "    'priors': [None, [0.2, 0.8], [0.5, 0.5]]\n",
        "}\n",
        "\n",
        "cvAr = [5, 10, 15]\n",
        "scoringAr = ['accuracy', 'precision', 'recall', 'f1', 'roc_auc']\n",
        "best_rank = float('inf')\n",
        "\n",
        "best_i = None\n",
        "best_j = None\n",
        "\n",
        "for i in cvAr:\n",
        "  for j in scoringAr:\n",
        "    rf = GaussianNB()\n",
        "    gs = GridSearchCV(rf, params, cv=i, scoring=j)\n",
        "    gs.fit(X_trainsSB12, y_train_categories)\n",
        "\n",
        "    result = pd.DataFrame(gs.cv_results_)\n",
        "    sorted_result = result[['params','rank_test_score','mean_test_score']].sort_values('rank_test_score')\n",
        "\n",
        "best_params = sorted_result.loc[sorted_result['rank_test_score'] == 1, 'params'].iloc[0]\n",
        "best_mean_score = sorted_result.loc[sorted_result['rank_test_score'] == 1, 'mean_test_score'].iloc[0]\n",
        "\n",
        "print('Melhores hiperparâmetros para DecisionTreeClassifier (cv={}, scoring={}):'.format(best_i, best_j))\n",
        "print('  Rank:', 1)\n",
        "print('  Média do Test Score:', best_mean_score)\n",
        "print('  Hiperparâmetros:', best_params)"
      ],
      "metadata": {
        "colab": {
          "base_uri": "https://localhost:8080/"
        },
        "id": "FMbmucgsBFip",
        "outputId": "9f3302e9-b67b-4d9f-c6fc-0829dd3e5f0c"
      },
      "execution_count": null,
      "outputs": [
        {
          "output_type": "stream",
          "name": "stdout",
          "text": [
            "Melhores hiperparâmetros para DecisionTreeClassifier (cv=15, scoring=roc_auc):\n",
            "  Rank: 1\n",
            "  Média do Test Score: 0.8614761895003685\n",
            "  Hiperparâmetros: {'priors': None}\n"
          ]
        }
      ]
    },
    {
      "cell_type": "code",
      "source": [
        "from sklearn.naive_bayes import GaussianNB\n",
        "from sklearn.metrics import accuracy_score\n",
        "best_params = {'priors': None}\n",
        "model_lr = GaussianNB(**best_params)\n",
        "model_lr.fit(X_trainsSB12, y_train_categories)\n",
        "pred_lrDTSB12 = model_lr.predict(X_testSB12)\n",
        "\n",
        "acc_lrDTSB12 = accuracy_score(y_test_categories, pred_lrDTSB12)\n",
        "\n",
        "print(\"Acurácia GaussianNB sb12:\", acc_lrDTSB12)"
      ],
      "metadata": {
        "colab": {
          "base_uri": "https://localhost:8080/"
        },
        "id": "cBycRWWyfZ3K",
        "outputId": "56fbd182-3b3d-40e5-97a0-ff6f7d4cbaa8"
      },
      "execution_count": null,
      "outputs": [
        {
          "output_type": "stream",
          "name": "stdout",
          "text": [
            "Acurácia GaussianNB sb12: 0.8096349491322561\n"
          ]
        }
      ]
    }
  ],
  "metadata": {
    "colab": {
      "collapsed_sections": [
        "YHLcL5cw7wSt",
        "uS5gs-ftsBrZ",
        "E0sPDaIrzn9p"
      ],
      "provenance": []
    },
    "kernelspec": {
      "display_name": "Python 3",
      "name": "python3"
    },
    "language_info": {
      "name": "python"
    }
  },
  "nbformat": 4,
  "nbformat_minor": 0
}